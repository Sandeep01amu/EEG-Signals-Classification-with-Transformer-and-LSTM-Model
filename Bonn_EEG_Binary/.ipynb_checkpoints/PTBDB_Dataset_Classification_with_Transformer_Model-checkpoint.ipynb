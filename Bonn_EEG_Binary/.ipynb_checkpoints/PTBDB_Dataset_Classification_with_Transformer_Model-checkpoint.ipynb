{
 "cells": [
  {
   "cell_type": "code",
   "execution_count": 250,
   "id": "758b5a79",
   "metadata": {},
   "outputs": [],
   "source": [
    "import numpy as np\n",
    "import pandas as pd\n",
    "import tensorflow as tf\n",
    "from keras_preprocessing.sequence import pad_sequences\n",
    "import keras\n",
    "import os\n",
    "import numpy as np\n",
    "import json\n",
    "import keras_tuner as kt\n",
    "from tensorflow.keras import optimizers\n",
    "from tensorflow.keras import layers\n",
    "import matplotlib.pyplot as plt\n",
    "from sklearn.utils import resample\n",
    "from keras.utils.np_utils import to_categorical\n",
    "import sys\n",
    "from time import sleep\n",
    "import sklearn as sk\n",
    "from tensorflow import keras\n",
    "from sklearn.model_selection import train_test_split\n",
    "from sklearn.metrics import confusion_matrix, ConfusionMatrixDisplay\n",
    "from sklearn.svm import SVC"
   ]
  },
  {
   "cell_type": "code",
   "execution_count": 137,
   "id": "d1e7c2f3",
   "metadata": {},
   "outputs": [],
   "source": [
    "normal_ecg= pd.read_csv('ptbdb_normal.csv', header=None)\n",
    "abnormal_ecg=pd.read_csv('ptbdb_abnormal.csv',header=None)"
   ]
  },
  {
   "cell_type": "code",
   "execution_count": 138,
   "id": "e3392f98",
   "metadata": {},
   "outputs": [],
   "source": [
    "total_df=pd.concat([normal_ecg,abnormal_ecg])"
   ]
  },
  {
   "cell_type": "code",
   "execution_count": 141,
   "id": "d4dde8be",
   "metadata": {},
   "outputs": [
    {
     "data": {
      "text/html": [
       "<div>\n",
       "<style scoped>\n",
       "    .dataframe tbody tr th:only-of-type {\n",
       "        vertical-align: middle;\n",
       "    }\n",
       "\n",
       "    .dataframe tbody tr th {\n",
       "        vertical-align: top;\n",
       "    }\n",
       "\n",
       "    .dataframe thead th {\n",
       "        text-align: right;\n",
       "    }\n",
       "</style>\n",
       "<table border=\"1\" class=\"dataframe\">\n",
       "  <thead>\n",
       "    <tr style=\"text-align: right;\">\n",
       "      <th></th>\n",
       "      <th>0</th>\n",
       "      <th>1</th>\n",
       "      <th>2</th>\n",
       "      <th>3</th>\n",
       "      <th>4</th>\n",
       "      <th>5</th>\n",
       "      <th>6</th>\n",
       "      <th>7</th>\n",
       "      <th>8</th>\n",
       "      <th>9</th>\n",
       "      <th>...</th>\n",
       "      <th>178</th>\n",
       "      <th>179</th>\n",
       "      <th>180</th>\n",
       "      <th>181</th>\n",
       "      <th>182</th>\n",
       "      <th>183</th>\n",
       "      <th>184</th>\n",
       "      <th>185</th>\n",
       "      <th>186</th>\n",
       "      <th>187</th>\n",
       "    </tr>\n",
       "  </thead>\n",
       "  <tbody>\n",
       "    <tr>\n",
       "      <th>0</th>\n",
       "      <td>1.000000</td>\n",
       "      <td>0.900324</td>\n",
       "      <td>0.358590</td>\n",
       "      <td>0.051459</td>\n",
       "      <td>0.046596</td>\n",
       "      <td>0.126823</td>\n",
       "      <td>0.133306</td>\n",
       "      <td>0.119125</td>\n",
       "      <td>0.110616</td>\n",
       "      <td>0.113047</td>\n",
       "      <td>...</td>\n",
       "      <td>0.0</td>\n",
       "      <td>0.0</td>\n",
       "      <td>0.0</td>\n",
       "      <td>0.0</td>\n",
       "      <td>0.0</td>\n",
       "      <td>0.0</td>\n",
       "      <td>0.0</td>\n",
       "      <td>0.0</td>\n",
       "      <td>0.0</td>\n",
       "      <td>0</td>\n",
       "    </tr>\n",
       "    <tr>\n",
       "      <th>1</th>\n",
       "      <td>1.000000</td>\n",
       "      <td>0.794681</td>\n",
       "      <td>0.375387</td>\n",
       "      <td>0.116883</td>\n",
       "      <td>0.000000</td>\n",
       "      <td>0.171923</td>\n",
       "      <td>0.283859</td>\n",
       "      <td>0.293754</td>\n",
       "      <td>0.325912</td>\n",
       "      <td>0.345083</td>\n",
       "      <td>...</td>\n",
       "      <td>0.0</td>\n",
       "      <td>0.0</td>\n",
       "      <td>0.0</td>\n",
       "      <td>0.0</td>\n",
       "      <td>0.0</td>\n",
       "      <td>0.0</td>\n",
       "      <td>0.0</td>\n",
       "      <td>0.0</td>\n",
       "      <td>0.0</td>\n",
       "      <td>0</td>\n",
       "    </tr>\n",
       "    <tr>\n",
       "      <th>2</th>\n",
       "      <td>0.909029</td>\n",
       "      <td>0.791482</td>\n",
       "      <td>0.423169</td>\n",
       "      <td>0.186712</td>\n",
       "      <td>0.000000</td>\n",
       "      <td>0.007836</td>\n",
       "      <td>0.063032</td>\n",
       "      <td>0.077002</td>\n",
       "      <td>0.074957</td>\n",
       "      <td>0.077342</td>\n",
       "      <td>...</td>\n",
       "      <td>0.0</td>\n",
       "      <td>0.0</td>\n",
       "      <td>0.0</td>\n",
       "      <td>0.0</td>\n",
       "      <td>0.0</td>\n",
       "      <td>0.0</td>\n",
       "      <td>0.0</td>\n",
       "      <td>0.0</td>\n",
       "      <td>0.0</td>\n",
       "      <td>0</td>\n",
       "    </tr>\n",
       "    <tr>\n",
       "      <th>3</th>\n",
       "      <td>1.000000</td>\n",
       "      <td>0.478893</td>\n",
       "      <td>0.056760</td>\n",
       "      <td>0.064176</td>\n",
       "      <td>0.081289</td>\n",
       "      <td>0.072732</td>\n",
       "      <td>0.055619</td>\n",
       "      <td>0.048774</td>\n",
       "      <td>0.054478</td>\n",
       "      <td>0.041643</td>\n",
       "      <td>...</td>\n",
       "      <td>0.0</td>\n",
       "      <td>0.0</td>\n",
       "      <td>0.0</td>\n",
       "      <td>0.0</td>\n",
       "      <td>0.0</td>\n",
       "      <td>0.0</td>\n",
       "      <td>0.0</td>\n",
       "      <td>0.0</td>\n",
       "      <td>0.0</td>\n",
       "      <td>0</td>\n",
       "    </tr>\n",
       "    <tr>\n",
       "      <th>4</th>\n",
       "      <td>1.000000</td>\n",
       "      <td>0.867238</td>\n",
       "      <td>0.201360</td>\n",
       "      <td>0.099349</td>\n",
       "      <td>0.141336</td>\n",
       "      <td>0.120934</td>\n",
       "      <td>0.108516</td>\n",
       "      <td>0.096393</td>\n",
       "      <td>0.093436</td>\n",
       "      <td>0.100828</td>\n",
       "      <td>...</td>\n",
       "      <td>0.0</td>\n",
       "      <td>0.0</td>\n",
       "      <td>0.0</td>\n",
       "      <td>0.0</td>\n",
       "      <td>0.0</td>\n",
       "      <td>0.0</td>\n",
       "      <td>0.0</td>\n",
       "      <td>0.0</td>\n",
       "      <td>0.0</td>\n",
       "      <td>0</td>\n",
       "    </tr>\n",
       "    <tr>\n",
       "      <th>...</th>\n",
       "      <td>...</td>\n",
       "      <td>...</td>\n",
       "      <td>...</td>\n",
       "      <td>...</td>\n",
       "      <td>...</td>\n",
       "      <td>...</td>\n",
       "      <td>...</td>\n",
       "      <td>...</td>\n",
       "      <td>...</td>\n",
       "      <td>...</td>\n",
       "      <td>...</td>\n",
       "      <td>...</td>\n",
       "      <td>...</td>\n",
       "      <td>...</td>\n",
       "      <td>...</td>\n",
       "      <td>...</td>\n",
       "      <td>...</td>\n",
       "      <td>...</td>\n",
       "      <td>...</td>\n",
       "      <td>...</td>\n",
       "      <td>...</td>\n",
       "    </tr>\n",
       "    <tr>\n",
       "      <th>10501</th>\n",
       "      <td>0.981409</td>\n",
       "      <td>1.000000</td>\n",
       "      <td>0.559171</td>\n",
       "      <td>0.287093</td>\n",
       "      <td>0.196639</td>\n",
       "      <td>0.204862</td>\n",
       "      <td>0.215946</td>\n",
       "      <td>0.243833</td>\n",
       "      <td>0.242760</td>\n",
       "      <td>0.250268</td>\n",
       "      <td>...</td>\n",
       "      <td>0.0</td>\n",
       "      <td>0.0</td>\n",
       "      <td>0.0</td>\n",
       "      <td>0.0</td>\n",
       "      <td>0.0</td>\n",
       "      <td>0.0</td>\n",
       "      <td>0.0</td>\n",
       "      <td>0.0</td>\n",
       "      <td>0.0</td>\n",
       "      <td>1</td>\n",
       "    </tr>\n",
       "    <tr>\n",
       "      <th>10502</th>\n",
       "      <td>0.906250</td>\n",
       "      <td>0.922379</td>\n",
       "      <td>0.878024</td>\n",
       "      <td>0.810484</td>\n",
       "      <td>0.712702</td>\n",
       "      <td>0.667339</td>\n",
       "      <td>0.608871</td>\n",
       "      <td>0.527218</td>\n",
       "      <td>0.480847</td>\n",
       "      <td>0.442540</td>\n",
       "      <td>...</td>\n",
       "      <td>0.0</td>\n",
       "      <td>0.0</td>\n",
       "      <td>0.0</td>\n",
       "      <td>0.0</td>\n",
       "      <td>0.0</td>\n",
       "      <td>0.0</td>\n",
       "      <td>0.0</td>\n",
       "      <td>0.0</td>\n",
       "      <td>0.0</td>\n",
       "      <td>1</td>\n",
       "    </tr>\n",
       "    <tr>\n",
       "      <th>10503</th>\n",
       "      <td>1.000000</td>\n",
       "      <td>0.867971</td>\n",
       "      <td>0.674122</td>\n",
       "      <td>0.470332</td>\n",
       "      <td>0.296987</td>\n",
       "      <td>0.169307</td>\n",
       "      <td>0.077664</td>\n",
       "      <td>0.081392</td>\n",
       "      <td>0.074868</td>\n",
       "      <td>0.089779</td>\n",
       "      <td>...</td>\n",
       "      <td>0.0</td>\n",
       "      <td>0.0</td>\n",
       "      <td>0.0</td>\n",
       "      <td>0.0</td>\n",
       "      <td>0.0</td>\n",
       "      <td>0.0</td>\n",
       "      <td>0.0</td>\n",
       "      <td>0.0</td>\n",
       "      <td>0.0</td>\n",
       "      <td>1</td>\n",
       "    </tr>\n",
       "    <tr>\n",
       "      <th>10504</th>\n",
       "      <td>1.000000</td>\n",
       "      <td>0.984672</td>\n",
       "      <td>0.658888</td>\n",
       "      <td>0.556394</td>\n",
       "      <td>0.446809</td>\n",
       "      <td>0.395790</td>\n",
       "      <td>0.315260</td>\n",
       "      <td>0.276367</td>\n",
       "      <td>0.261039</td>\n",
       "      <td>0.258522</td>\n",
       "      <td>...</td>\n",
       "      <td>0.0</td>\n",
       "      <td>0.0</td>\n",
       "      <td>0.0</td>\n",
       "      <td>0.0</td>\n",
       "      <td>0.0</td>\n",
       "      <td>0.0</td>\n",
       "      <td>0.0</td>\n",
       "      <td>0.0</td>\n",
       "      <td>0.0</td>\n",
       "      <td>1</td>\n",
       "    </tr>\n",
       "    <tr>\n",
       "      <th>10505</th>\n",
       "      <td>0.997886</td>\n",
       "      <td>0.700317</td>\n",
       "      <td>0.464059</td>\n",
       "      <td>0.318182</td>\n",
       "      <td>0.233615</td>\n",
       "      <td>0.184989</td>\n",
       "      <td>0.124207</td>\n",
       "      <td>0.082981</td>\n",
       "      <td>0.087738</td>\n",
       "      <td>0.063953</td>\n",
       "      <td>...</td>\n",
       "      <td>0.0</td>\n",
       "      <td>0.0</td>\n",
       "      <td>0.0</td>\n",
       "      <td>0.0</td>\n",
       "      <td>0.0</td>\n",
       "      <td>0.0</td>\n",
       "      <td>0.0</td>\n",
       "      <td>0.0</td>\n",
       "      <td>0.0</td>\n",
       "      <td>1</td>\n",
       "    </tr>\n",
       "  </tbody>\n",
       "</table>\n",
       "<p>14552 rows × 188 columns</p>\n",
       "</div>"
      ],
      "text/plain": [
       "              0         1         2         3         4         5         6  \\\n",
       "0      1.000000  0.900324  0.358590  0.051459  0.046596  0.126823  0.133306   \n",
       "1      1.000000  0.794681  0.375387  0.116883  0.000000  0.171923  0.283859   \n",
       "2      0.909029  0.791482  0.423169  0.186712  0.000000  0.007836  0.063032   \n",
       "3      1.000000  0.478893  0.056760  0.064176  0.081289  0.072732  0.055619   \n",
       "4      1.000000  0.867238  0.201360  0.099349  0.141336  0.120934  0.108516   \n",
       "...         ...       ...       ...       ...       ...       ...       ...   \n",
       "10501  0.981409  1.000000  0.559171  0.287093  0.196639  0.204862  0.215946   \n",
       "10502  0.906250  0.922379  0.878024  0.810484  0.712702  0.667339  0.608871   \n",
       "10503  1.000000  0.867971  0.674122  0.470332  0.296987  0.169307  0.077664   \n",
       "10504  1.000000  0.984672  0.658888  0.556394  0.446809  0.395790  0.315260   \n",
       "10505  0.997886  0.700317  0.464059  0.318182  0.233615  0.184989  0.124207   \n",
       "\n",
       "              7         8         9  ...  178  179  180  181  182  183  184  \\\n",
       "0      0.119125  0.110616  0.113047  ...  0.0  0.0  0.0  0.0  0.0  0.0  0.0   \n",
       "1      0.293754  0.325912  0.345083  ...  0.0  0.0  0.0  0.0  0.0  0.0  0.0   \n",
       "2      0.077002  0.074957  0.077342  ...  0.0  0.0  0.0  0.0  0.0  0.0  0.0   \n",
       "3      0.048774  0.054478  0.041643  ...  0.0  0.0  0.0  0.0  0.0  0.0  0.0   \n",
       "4      0.096393  0.093436  0.100828  ...  0.0  0.0  0.0  0.0  0.0  0.0  0.0   \n",
       "...         ...       ...       ...  ...  ...  ...  ...  ...  ...  ...  ...   \n",
       "10501  0.243833  0.242760  0.250268  ...  0.0  0.0  0.0  0.0  0.0  0.0  0.0   \n",
       "10502  0.527218  0.480847  0.442540  ...  0.0  0.0  0.0  0.0  0.0  0.0  0.0   \n",
       "10503  0.081392  0.074868  0.089779  ...  0.0  0.0  0.0  0.0  0.0  0.0  0.0   \n",
       "10504  0.276367  0.261039  0.258522  ...  0.0  0.0  0.0  0.0  0.0  0.0  0.0   \n",
       "10505  0.082981  0.087738  0.063953  ...  0.0  0.0  0.0  0.0  0.0  0.0  0.0   \n",
       "\n",
       "       185  186  187  \n",
       "0      0.0  0.0    0  \n",
       "1      0.0  0.0    0  \n",
       "2      0.0  0.0    0  \n",
       "3      0.0  0.0    0  \n",
       "4      0.0  0.0    0  \n",
       "...    ...  ...  ...  \n",
       "10501  0.0  0.0    1  \n",
       "10502  0.0  0.0    1  \n",
       "10503  0.0  0.0    1  \n",
       "10504  0.0  0.0    1  \n",
       "10505  0.0  0.0    1  \n",
       "\n",
       "[14552 rows x 188 columns]"
      ]
     },
     "execution_count": 141,
     "metadata": {},
     "output_type": "execute_result"
    }
   ],
   "source": [
    "total_df.columns = total_df.columns.astype(\"str\")\n",
    "total_df[\"187\"] = total_df[\"187\"].astype(\"int64\")\n",
    "total_df"
   ]
  },
  {
   "cell_type": "code",
   "execution_count": 143,
   "id": "61b74568",
   "metadata": {},
   "outputs": [
    {
     "name": "stdout",
     "output_type": "stream",
     "text": [
      "<class 'pandas.core.frame.DataFrame'>\n",
      "Int64Index: 14552 entries, 0 to 10505\n",
      "Data columns (total 188 columns):\n",
      " #    Column  Non-Null Count  Dtype  \n",
      "---   ------  --------------  -----  \n",
      " 0    0       14552 non-null  float64\n",
      " 1    1       14552 non-null  float64\n",
      " 2    2       14552 non-null  float64\n",
      " 3    3       14552 non-null  float64\n",
      " 4    4       14552 non-null  float64\n",
      " 5    5       14552 non-null  float64\n",
      " 6    6       14552 non-null  float64\n",
      " 7    7       14552 non-null  float64\n",
      " 8    8       14552 non-null  float64\n",
      " 9    9       14552 non-null  float64\n",
      " 10   10      14552 non-null  float64\n",
      " 11   11      14552 non-null  float64\n",
      " 12   12      14552 non-null  float64\n",
      " 13   13      14552 non-null  float64\n",
      " 14   14      14552 non-null  float64\n",
      " 15   15      14552 non-null  float64\n",
      " 16   16      14552 non-null  float64\n",
      " 17   17      14552 non-null  float64\n",
      " 18   18      14552 non-null  float64\n",
      " 19   19      14552 non-null  float64\n",
      " 20   20      14552 non-null  float64\n",
      " 21   21      14552 non-null  float64\n",
      " 22   22      14552 non-null  float64\n",
      " 23   23      14552 non-null  float64\n",
      " 24   24      14552 non-null  float64\n",
      " 25   25      14552 non-null  float64\n",
      " 26   26      14552 non-null  float64\n",
      " 27   27      14552 non-null  float64\n",
      " 28   28      14552 non-null  float64\n",
      " 29   29      14552 non-null  float64\n",
      " 30   30      14552 non-null  float64\n",
      " 31   31      14552 non-null  float64\n",
      " 32   32      14552 non-null  float64\n",
      " 33   33      14552 non-null  float64\n",
      " 34   34      14552 non-null  float64\n",
      " 35   35      14552 non-null  float64\n",
      " 36   36      14552 non-null  float64\n",
      " 37   37      14552 non-null  float64\n",
      " 38   38      14552 non-null  float64\n",
      " 39   39      14552 non-null  float64\n",
      " 40   40      14552 non-null  float64\n",
      " 41   41      14552 non-null  float64\n",
      " 42   42      14552 non-null  float64\n",
      " 43   43      14552 non-null  float64\n",
      " 44   44      14552 non-null  float64\n",
      " 45   45      14552 non-null  float64\n",
      " 46   46      14552 non-null  float64\n",
      " 47   47      14552 non-null  float64\n",
      " 48   48      14552 non-null  float64\n",
      " 49   49      14552 non-null  float64\n",
      " 50   50      14552 non-null  float64\n",
      " 51   51      14552 non-null  float64\n",
      " 52   52      14552 non-null  float64\n",
      " 53   53      14552 non-null  float64\n",
      " 54   54      14552 non-null  float64\n",
      " 55   55      14552 non-null  float64\n",
      " 56   56      14552 non-null  float64\n",
      " 57   57      14552 non-null  float64\n",
      " 58   58      14552 non-null  float64\n",
      " 59   59      14552 non-null  float64\n",
      " 60   60      14552 non-null  float64\n",
      " 61   61      14552 non-null  float64\n",
      " 62   62      14552 non-null  float64\n",
      " 63   63      14552 non-null  float64\n",
      " 64   64      14552 non-null  float64\n",
      " 65   65      14552 non-null  float64\n",
      " 66   66      14552 non-null  float64\n",
      " 67   67      14552 non-null  float64\n",
      " 68   68      14552 non-null  float64\n",
      " 69   69      14552 non-null  float64\n",
      " 70   70      14552 non-null  float64\n",
      " 71   71      14552 non-null  float64\n",
      " 72   72      14552 non-null  float64\n",
      " 73   73      14552 non-null  float64\n",
      " 74   74      14552 non-null  float64\n",
      " 75   75      14552 non-null  float64\n",
      " 76   76      14552 non-null  float64\n",
      " 77   77      14552 non-null  float64\n",
      " 78   78      14552 non-null  float64\n",
      " 79   79      14552 non-null  float64\n",
      " 80   80      14552 non-null  float64\n",
      " 81   81      14552 non-null  float64\n",
      " 82   82      14552 non-null  float64\n",
      " 83   83      14552 non-null  float64\n",
      " 84   84      14552 non-null  float64\n",
      " 85   85      14552 non-null  float64\n",
      " 86   86      14552 non-null  float64\n",
      " 87   87      14552 non-null  float64\n",
      " 88   88      14552 non-null  float64\n",
      " 89   89      14552 non-null  float64\n",
      " 90   90      14552 non-null  float64\n",
      " 91   91      14552 non-null  float64\n",
      " 92   92      14552 non-null  float64\n",
      " 93   93      14552 non-null  float64\n",
      " 94   94      14552 non-null  float64\n",
      " 95   95      14552 non-null  float64\n",
      " 96   96      14552 non-null  float64\n",
      " 97   97      14552 non-null  float64\n",
      " 98   98      14552 non-null  float64\n",
      " 99   99      14552 non-null  float64\n",
      " 100  100     14552 non-null  float64\n",
      " 101  101     14552 non-null  float64\n",
      " 102  102     14552 non-null  float64\n",
      " 103  103     14552 non-null  float64\n",
      " 104  104     14552 non-null  float64\n",
      " 105  105     14552 non-null  float64\n",
      " 106  106     14552 non-null  float64\n",
      " 107  107     14552 non-null  float64\n",
      " 108  108     14552 non-null  float64\n",
      " 109  109     14552 non-null  float64\n",
      " 110  110     14552 non-null  float64\n",
      " 111  111     14552 non-null  float64\n",
      " 112  112     14552 non-null  float64\n",
      " 113  113     14552 non-null  float64\n",
      " 114  114     14552 non-null  float64\n",
      " 115  115     14552 non-null  float64\n",
      " 116  116     14552 non-null  float64\n",
      " 117  117     14552 non-null  float64\n",
      " 118  118     14552 non-null  float64\n",
      " 119  119     14552 non-null  float64\n",
      " 120  120     14552 non-null  float64\n",
      " 121  121     14552 non-null  float64\n",
      " 122  122     14552 non-null  float64\n",
      " 123  123     14552 non-null  float64\n",
      " 124  124     14552 non-null  float64\n",
      " 125  125     14552 non-null  float64\n",
      " 126  126     14552 non-null  float64\n",
      " 127  127     14552 non-null  float64\n",
      " 128  128     14552 non-null  float64\n",
      " 129  129     14552 non-null  float64\n",
      " 130  130     14552 non-null  float64\n",
      " 131  131     14552 non-null  float64\n",
      " 132  132     14552 non-null  float64\n",
      " 133  133     14552 non-null  float64\n",
      " 134  134     14552 non-null  float64\n",
      " 135  135     14552 non-null  float64\n",
      " 136  136     14552 non-null  float64\n",
      " 137  137     14552 non-null  float64\n",
      " 138  138     14552 non-null  float64\n",
      " 139  139     14552 non-null  float64\n",
      " 140  140     14552 non-null  float64\n",
      " 141  141     14552 non-null  float64\n",
      " 142  142     14552 non-null  float64\n",
      " 143  143     14552 non-null  float64\n",
      " 144  144     14552 non-null  float64\n",
      " 145  145     14552 non-null  float64\n",
      " 146  146     14552 non-null  float64\n",
      " 147  147     14552 non-null  float64\n",
      " 148  148     14552 non-null  float64\n",
      " 149  149     14552 non-null  float64\n",
      " 150  150     14552 non-null  float64\n",
      " 151  151     14552 non-null  float64\n",
      " 152  152     14552 non-null  float64\n",
      " 153  153     14552 non-null  float64\n",
      " 154  154     14552 non-null  float64\n",
      " 155  155     14552 non-null  float64\n",
      " 156  156     14552 non-null  float64\n",
      " 157  157     14552 non-null  float64\n",
      " 158  158     14552 non-null  float64\n",
      " 159  159     14552 non-null  float64\n",
      " 160  160     14552 non-null  float64\n",
      " 161  161     14552 non-null  float64\n",
      " 162  162     14552 non-null  float64\n",
      " 163  163     14552 non-null  float64\n",
      " 164  164     14552 non-null  float64\n",
      " 165  165     14552 non-null  float64\n",
      " 166  166     14552 non-null  float64\n",
      " 167  167     14552 non-null  float64\n",
      " 168  168     14552 non-null  float64\n",
      " 169  169     14552 non-null  float64\n",
      " 170  170     14552 non-null  float64\n",
      " 171  171     14552 non-null  float64\n",
      " 172  172     14552 non-null  float64\n",
      " 173  173     14552 non-null  float64\n",
      " 174  174     14552 non-null  float64\n",
      " 175  175     14552 non-null  float64\n",
      " 176  176     14552 non-null  float64\n",
      " 177  177     14552 non-null  float64\n",
      " 178  178     14552 non-null  float64\n",
      " 179  179     14552 non-null  float64\n",
      " 180  180     14552 non-null  float64\n",
      " 181  181     14552 non-null  float64\n",
      " 182  182     14552 non-null  float64\n",
      " 183  183     14552 non-null  float64\n",
      " 184  184     14552 non-null  float64\n",
      " 185  185     14552 non-null  float64\n",
      " 186  186     14552 non-null  float64\n",
      " 187  187     14552 non-null  int64  \n",
      "dtypes: float64(187), int64(1)\n",
      "memory usage: 21.0 MB\n"
     ]
    }
   ],
   "source": [
    "total_df.info(verbose=True,show_counts=True)"
   ]
  },
  {
   "cell_type": "code",
   "execution_count": 144,
   "id": "0ca48d8b",
   "metadata": {},
   "outputs": [
    {
     "data": {
      "text/plain": [
       "(14552, 188)"
      ]
     },
     "execution_count": 144,
     "metadata": {},
     "output_type": "execute_result"
    }
   ],
   "source": [
    "total_df.shape"
   ]
  },
  {
   "cell_type": "code",
   "execution_count": 145,
   "id": "1aa9ea1e",
   "metadata": {},
   "outputs": [
    {
     "data": {
      "text/plain": [
       "0     4046\n",
       "1    10506\n",
       "Name: 187, dtype: int64"
      ]
     },
     "execution_count": 145,
     "metadata": {},
     "output_type": "execute_result"
    }
   ],
   "source": [
    "total_df['187'].value_counts().sort_index()"
   ]
  },
  {
   "cell_type": "code",
   "execution_count": 146,
   "id": "20c49f86",
   "metadata": {},
   "outputs": [
    {
     "name": "stdout",
     "output_type": "stream",
     "text": [
      "{0: 'Normal', 1: 'Myocardial Infarction'}\n"
     ]
    }
   ],
   "source": [
    "labels = {0: \"Normal\", 1: \"Myocardial Infarction\"}\n",
    "print(labels)"
   ]
  },
  {
   "cell_type": "code",
   "execution_count": 147,
   "id": "1ff176c9",
   "metadata": {},
   "outputs": [
    {
     "name": "stdout",
     "output_type": "stream",
     "text": [
      "['Normal', 'Myocardial Infarction']\n"
     ]
    }
   ],
   "source": [
    "print(list(labels.values()))"
   ]
  },
  {
   "cell_type": "code",
   "execution_count": 148,
   "id": "009215cc",
   "metadata": {},
   "outputs": [
    {
     "name": "stdout",
     "output_type": "stream",
     "text": [
      "(14552, 187)\n",
      "(14552,)\n"
     ]
    }
   ],
   "source": [
    "X = total_df.loc[:, total_df.columns != \"187\"].to_numpy()\n",
    "y = total_df.loc[:, \"187\"].to_numpy()\n",
    "print(X.shape)\n",
    "print(y.shape)"
   ]
  },
  {
   "cell_type": "code",
   "execution_count": 253,
   "id": "ac343d88",
   "metadata": {},
   "outputs": [],
   "source": [
    "X_train, X_test, Y_train, Y_test = train_test_split(X, y, test_size=0.2, stratify=y, random_state=42)"
   ]
  },
  {
   "cell_type": "code",
   "execution_count": 254,
   "id": "599533a9",
   "metadata": {},
   "outputs": [
    {
     "name": "stdout",
     "output_type": "stream",
     "text": [
      "(11641, 187)\n",
      "(2911, 187)\n",
      "(11641,)\n",
      "(2911,)\n"
     ]
    }
   ],
   "source": [
    "print(X_train.shape)\n",
    "print(X_test.shape)\n",
    "print(Y_train.shape)\n",
    "print(Y_test.shape)"
   ]
  },
  {
   "cell_type": "code",
   "execution_count": 255,
   "id": "4d0f8b34",
   "metadata": {},
   "outputs": [
    {
     "name": "stdout",
     "output_type": "stream",
     "text": [
      "[0 1]\n",
      "[3237 8404]\n"
     ]
    }
   ],
   "source": [
    "train_unique, train_counts = np.unique(Y_train, return_counts=True)\n",
    "print(train_unique)\n",
    "print(train_counts)"
   ]
  },
  {
   "cell_type": "code",
   "execution_count": 256,
   "id": "80e9067b",
   "metadata": {},
   "outputs": [
    {
     "name": "stdout",
     "output_type": "stream",
     "text": [
      "[0 1]\n",
      "[ 809 2102]\n"
     ]
    }
   ],
   "source": [
    "test_unique, test_counts = np.unique(Y_test, return_counts=True)\n",
    "print(test_unique)\n",
    "print(test_counts)"
   ]
  },
  {
   "cell_type": "code",
   "execution_count": 257,
   "id": "14a49934",
   "metadata": {},
   "outputs": [],
   "source": [
    "x_train = X_train.reshape(len(X_train), X_train.shape[1],1)\n",
    "x_test = X_test.reshape(len(X_test), X_test.shape[1],1)\n",
    "y_train=Y_train.reshape(Y_train.shape[0],1)\n",
    "y_test=Y_test.reshape(Y_test.shape[0],1)"
   ]
  },
  {
   "cell_type": "code",
   "execution_count": 258,
   "id": "eb2e1105",
   "metadata": {},
   "outputs": [
    {
     "data": {
      "text/plain": [
       "(11641, 187, 1)"
      ]
     },
     "execution_count": 258,
     "metadata": {},
     "output_type": "execute_result"
    }
   ],
   "source": [
    "x_train.shape"
   ]
  },
  {
   "cell_type": "code",
   "execution_count": 259,
   "id": "a7dbe621",
   "metadata": {},
   "outputs": [
    {
     "data": {
      "text/plain": [
       "(2911, 187, 1)"
      ]
     },
     "execution_count": 259,
     "metadata": {},
     "output_type": "execute_result"
    }
   ],
   "source": [
    "x_test.shape"
   ]
  },
  {
   "cell_type": "code",
   "execution_count": 260,
   "id": "57fbfd75",
   "metadata": {},
   "outputs": [
    {
     "data": {
      "text/plain": [
       "(11641, 1)"
      ]
     },
     "execution_count": 260,
     "metadata": {},
     "output_type": "execute_result"
    }
   ],
   "source": [
    "y_train.shape"
   ]
  },
  {
   "cell_type": "code",
   "execution_count": 261,
   "id": "63cc6cad",
   "metadata": {},
   "outputs": [
    {
     "data": {
      "text/plain": [
       "(2911, 1)"
      ]
     },
     "execution_count": 261,
     "metadata": {},
     "output_type": "execute_result"
    }
   ],
   "source": [
    "y_test.shape"
   ]
  },
  {
   "cell_type": "code",
   "execution_count": 262,
   "id": "2648ae13",
   "metadata": {},
   "outputs": [],
   "source": [
    "def transformer_encoder(inputs, head_size, num_heads, ff_dim, dropout=0):\n",
    "    # Normalization and Attention\n",
    "    x = layers.LayerNormalization(epsilon=1e-6)(inputs)\n",
    "    x = layers.MultiHeadAttention(\n",
    "        key_dim=head_size, num_heads=num_heads, dropout=dropout\n",
    "    )(x, x)\n",
    "    x = layers.Dropout(dropout)(x)\n",
    "    res = x + inputs\n",
    "\n",
    "    # Feed Forward Part\n",
    "    x = layers.LayerNormalization(epsilon=1e-6)(res)\n",
    "    x = layers.Conv1D(filters=ff_dim, kernel_size=1, activation=\"relu\")(x)\n",
    "    x = layers.Dropout(dropout)(x)\n",
    "    x = layers.Conv1D(filters=inputs.shape[-1], kernel_size=1)(x)\n",
    "    return x + res"
   ]
  },
  {
   "cell_type": "code",
   "execution_count": 263,
   "id": "06ee30e2",
   "metadata": {},
   "outputs": [],
   "source": [
    "def build_model(\n",
    "    input_shape,\n",
    "    head_size,\n",
    "    num_heads,\n",
    "    ff_dim,\n",
    "    num_transformer_blocks,\n",
    "    mlp_units,\n",
    "    dropout=0,\n",
    "    mlp_dropout=0,\n",
    "):\n",
    "    inputs = keras.Input(shape=input_shape)\n",
    "    x = inputs\n",
    "    for _ in range(num_transformer_blocks):\n",
    "        x = transformer_encoder(x, head_size, num_heads, ff_dim, dropout)\n",
    "\n",
    "    x = layers.GlobalAveragePooling1D(data_format=\"channels_first\")(x)\n",
    "    for dim in mlp_units:\n",
    "        x = layers.Dense(dim, activation=\"relu\")(x)\n",
    "        x = layers.Dropout(mlp_dropout)(x)\n",
    "    outputs = layers.Dense(2, activation=\"softmax\")(x)\n",
    "    return keras.Model(inputs, outputs)"
   ]
  },
  {
   "cell_type": "code",
   "execution_count": 264,
   "id": "809f0a70",
   "metadata": {},
   "outputs": [],
   "source": [
    "input_shape = x_train.shape[1:]"
   ]
  },
  {
   "cell_type": "code",
   "execution_count": 265,
   "id": "e6e4fe6b",
   "metadata": {},
   "outputs": [
    {
     "data": {
      "text/plain": [
       "(187, 1)"
      ]
     },
     "execution_count": 265,
     "metadata": {},
     "output_type": "execute_result"
    }
   ],
   "source": [
    "x_train.shape[1:]"
   ]
  },
  {
   "cell_type": "code",
   "execution_count": 266,
   "id": "81e38b3d",
   "metadata": {},
   "outputs": [
    {
     "name": "stdout",
     "output_type": "stream",
     "text": [
      "Model: \"model_39\"\n",
      "__________________________________________________________________________________________________\n",
      " Layer (type)                   Output Shape         Param #     Connected to                     \n",
      "==================================================================================================\n",
      " input_25 (InputLayer)          [(None, 187, 1)]     0           []                               \n",
      "                                                                                                  \n",
      " layer_normalization_68 (LayerN  (None, 187, 1)      2           ['input_25[0][0]']               \n",
      " ormalization)                                                                                    \n",
      "                                                                                                  \n",
      " multi_head_attention_34 (Multi  (None, 187, 1)      897         ['layer_normalization_68[0][0]', \n",
      " HeadAttention)                                                   'layer_normalization_68[0][0]'] \n",
      "                                                                                                  \n",
      " dropout_114 (Dropout)          (None, 187, 1)       0           ['multi_head_attention_34[0][0]']\n",
      "                                                                                                  \n",
      " tf.__operators__.add_52 (TFOpL  (None, 187, 1)      0           ['dropout_114[0][0]',            \n",
      " ambda)                                                           'input_25[0][0]']               \n",
      "                                                                                                  \n",
      " layer_normalization_69 (LayerN  (None, 187, 1)      2           ['tf.__operators__.add_52[0][0]']\n",
      " ormalization)                                                                                    \n",
      "                                                                                                  \n",
      " conv1d_52 (Conv1D)             (None, 187, 2)       4           ['layer_normalization_69[0][0]'] \n",
      "                                                                                                  \n",
      " dropout_115 (Dropout)          (None, 187, 2)       0           ['conv1d_52[0][0]']              \n",
      "                                                                                                  \n",
      " conv1d_53 (Conv1D)             (None, 187, 1)       3           ['dropout_115[0][0]']            \n",
      "                                                                                                  \n",
      " tf.__operators__.add_53 (TFOpL  (None, 187, 1)      0           ['conv1d_53[0][0]',              \n",
      " ambda)                                                           'tf.__operators__.add_52[0][0]']\n",
      "                                                                                                  \n",
      " global_average_pooling1d_31 (G  (None, 187)         0           ['tf.__operators__.add_53[0][0]']\n",
      " lobalAveragePooling1D)                                                                           \n",
      "                                                                                                  \n",
      " dense_78 (Dense)               (None, 64)           12032       ['global_average_pooling1d_31[0][\n",
      "                                                                 0]']                             \n",
      "                                                                                                  \n",
      " dropout_116 (Dropout)          (None, 64)           0           ['dense_78[0][0]']               \n",
      "                                                                                                  \n",
      " dense_79 (Dense)               (None, 2)            130         ['dropout_116[0][0]']            \n",
      "                                                                                                  \n",
      "==================================================================================================\n",
      "Total params: 13,070\n",
      "Trainable params: 13,070\n",
      "Non-trainable params: 0\n",
      "__________________________________________________________________________________________________\n",
      "Epoch 1/60\n",
      "2328/2328 [==============================] - 59s 25ms/step - loss: 0.5199 - sparse_categorical_accuracy: 0.7278 - val_loss: 0.4578 - val_sparse_categorical_accuracy: 0.7888\n",
      "Epoch 2/60\n",
      "2328/2328 [==============================] - 58s 25ms/step - loss: 0.4515 - sparse_categorical_accuracy: 0.7830 - val_loss: 0.4277 - val_sparse_categorical_accuracy: 0.8029\n",
      "Epoch 3/60\n",
      "2328/2328 [==============================] - 53s 23ms/step - loss: 0.4276 - sparse_categorical_accuracy: 0.7990 - val_loss: 0.4115 - val_sparse_categorical_accuracy: 0.8003\n",
      "Epoch 4/60\n",
      "2328/2328 [==============================] - 53s 23ms/step - loss: 0.4112 - sparse_categorical_accuracy: 0.8072 - val_loss: 0.3957 - val_sparse_categorical_accuracy: 0.8119\n",
      "Epoch 5/60\n",
      "2328/2328 [==============================] - 53s 23ms/step - loss: 0.3973 - sparse_categorical_accuracy: 0.8148 - val_loss: 0.3854 - val_sparse_categorical_accuracy: 0.8162\n",
      "Epoch 6/60\n",
      "2328/2328 [==============================] - 52s 22ms/step - loss: 0.3885 - sparse_categorical_accuracy: 0.8207 - val_loss: 0.3775 - val_sparse_categorical_accuracy: 0.8167\n",
      "Epoch 7/60\n",
      "2328/2328 [==============================] - 53s 23ms/step - loss: 0.3803 - sparse_categorical_accuracy: 0.8243 - val_loss: 0.3683 - val_sparse_categorical_accuracy: 0.8283\n",
      "Epoch 8/60\n",
      "2328/2328 [==============================] - 56s 24ms/step - loss: 0.3701 - sparse_categorical_accuracy: 0.8281 - val_loss: 0.3609 - val_sparse_categorical_accuracy: 0.8283\n",
      "Epoch 9/60\n",
      "2328/2328 [==============================] - 54s 23ms/step - loss: 0.3656 - sparse_categorical_accuracy: 0.8347 - val_loss: 0.3540 - val_sparse_categorical_accuracy: 0.8377\n",
      "Epoch 10/60\n",
      "2328/2328 [==============================] - 55s 24ms/step - loss: 0.3579 - sparse_categorical_accuracy: 0.8358 - val_loss: 0.3494 - val_sparse_categorical_accuracy: 0.8364\n",
      "Epoch 11/60\n",
      "2328/2328 [==============================] - 54s 23ms/step - loss: 0.3522 - sparse_categorical_accuracy: 0.8430 - val_loss: 0.3415 - val_sparse_categorical_accuracy: 0.8459\n",
      "Epoch 12/60\n",
      "2328/2328 [==============================] - 56s 24ms/step - loss: 0.3430 - sparse_categorical_accuracy: 0.8454 - val_loss: 0.3367 - val_sparse_categorical_accuracy: 0.8467\n",
      "Epoch 13/60\n",
      "2328/2328 [==============================] - 56s 24ms/step - loss: 0.3380 - sparse_categorical_accuracy: 0.8499 - val_loss: 0.3316 - val_sparse_categorical_accuracy: 0.8502\n",
      "Epoch 14/60\n",
      "2328/2328 [==============================] - 55s 24ms/step - loss: 0.3312 - sparse_categorical_accuracy: 0.8547 - val_loss: 0.3250 - val_sparse_categorical_accuracy: 0.8540\n",
      "Epoch 15/60\n",
      "2328/2328 [==============================] - 55s 24ms/step - loss: 0.3274 - sparse_categorical_accuracy: 0.8562 - val_loss: 0.3211 - val_sparse_categorical_accuracy: 0.8587\n",
      "Epoch 16/60\n",
      "2328/2328 [==============================] - 55s 23ms/step - loss: 0.3250 - sparse_categorical_accuracy: 0.8594 - val_loss: 0.3175 - val_sparse_categorical_accuracy: 0.8562\n",
      "Epoch 17/60\n",
      "2328/2328 [==============================] - 55s 23ms/step - loss: 0.3188 - sparse_categorical_accuracy: 0.8586 - val_loss: 0.3119 - val_sparse_categorical_accuracy: 0.8690\n",
      "Epoch 18/60\n",
      "2328/2328 [==============================] - 54s 23ms/step - loss: 0.3126 - sparse_categorical_accuracy: 0.8630 - val_loss: 0.3068 - val_sparse_categorical_accuracy: 0.8686\n",
      "Epoch 19/60\n",
      "2328/2328 [==============================] - 56s 24ms/step - loss: 0.3093 - sparse_categorical_accuracy: 0.8682 - val_loss: 0.3036 - val_sparse_categorical_accuracy: 0.8725\n",
      "Epoch 20/60\n",
      "2328/2328 [==============================] - 54s 23ms/step - loss: 0.3059 - sparse_categorical_accuracy: 0.8696 - val_loss: 0.2991 - val_sparse_categorical_accuracy: 0.8738\n",
      "Epoch 21/60\n",
      "2328/2328 [==============================] - 57s 24ms/step - loss: 0.3026 - sparse_categorical_accuracy: 0.8738 - val_loss: 0.2951 - val_sparse_categorical_accuracy: 0.8776\n",
      "Epoch 22/60\n",
      "2328/2328 [==============================] - 56s 24ms/step - loss: 0.2981 - sparse_categorical_accuracy: 0.8735 - val_loss: 0.2910 - val_sparse_categorical_accuracy: 0.8751\n",
      "Epoch 23/60\n"
     ]
    },
    {
     "name": "stdout",
     "output_type": "stream",
     "text": [
      "2328/2328 [==============================] - 52s 22ms/step - loss: 0.2958 - sparse_categorical_accuracy: 0.8740 - val_loss: 0.2887 - val_sparse_categorical_accuracy: 0.8798\n",
      "Epoch 24/60\n",
      "2328/2328 [==============================] - 53s 23ms/step - loss: 0.2957 - sparse_categorical_accuracy: 0.8768 - val_loss: 0.2850 - val_sparse_categorical_accuracy: 0.8892\n",
      "Epoch 25/60\n",
      "2328/2328 [==============================] - 53s 23ms/step - loss: 0.2887 - sparse_categorical_accuracy: 0.8795 - val_loss: 0.2804 - val_sparse_categorical_accuracy: 0.8879\n",
      "Epoch 26/60\n",
      "2328/2328 [==============================] - 53s 23ms/step - loss: 0.2856 - sparse_categorical_accuracy: 0.8800 - val_loss: 0.2780 - val_sparse_categorical_accuracy: 0.8879\n",
      "Epoch 27/60\n",
      "2328/2328 [==============================] - 54s 23ms/step - loss: 0.2829 - sparse_categorical_accuracy: 0.8816 - val_loss: 0.2733 - val_sparse_categorical_accuracy: 0.8918\n",
      "Epoch 28/60\n",
      "2328/2328 [==============================] - 53s 23ms/step - loss: 0.2814 - sparse_categorical_accuracy: 0.8820 - val_loss: 0.2699 - val_sparse_categorical_accuracy: 0.8939\n",
      "Epoch 29/60\n",
      "2328/2328 [==============================] - 53s 23ms/step - loss: 0.2765 - sparse_categorical_accuracy: 0.8865 - val_loss: 0.2687 - val_sparse_categorical_accuracy: 0.8918\n",
      "Epoch 30/60\n",
      "2328/2328 [==============================] - 55s 23ms/step - loss: 0.2746 - sparse_categorical_accuracy: 0.8869 - val_loss: 0.2649 - val_sparse_categorical_accuracy: 0.8918\n",
      "Epoch 31/60\n",
      "2328/2328 [==============================] - 55s 23ms/step - loss: 0.2681 - sparse_categorical_accuracy: 0.8898 - val_loss: 0.2638 - val_sparse_categorical_accuracy: 0.9004\n",
      "Epoch 32/60\n",
      "2328/2328 [==============================] - 55s 24ms/step - loss: 0.2697 - sparse_categorical_accuracy: 0.8929 - val_loss: 0.2600 - val_sparse_categorical_accuracy: 0.9012\n",
      "Epoch 33/60\n",
      "2328/2328 [==============================] - 55s 24ms/step - loss: 0.2649 - sparse_categorical_accuracy: 0.8947 - val_loss: 0.2608 - val_sparse_categorical_accuracy: 0.9008\n",
      "Epoch 34/60\n",
      "2328/2328 [==============================] - 56s 24ms/step - loss: 0.2621 - sparse_categorical_accuracy: 0.8923 - val_loss: 0.2545 - val_sparse_categorical_accuracy: 0.9012\n",
      "Epoch 35/60\n",
      "2328/2328 [==============================] - 55s 24ms/step - loss: 0.2632 - sparse_categorical_accuracy: 0.8942 - val_loss: 0.2512 - val_sparse_categorical_accuracy: 0.9064\n",
      "Epoch 36/60\n",
      "2328/2328 [==============================] - 56s 24ms/step - loss: 0.2619 - sparse_categorical_accuracy: 0.8965 - val_loss: 0.2527 - val_sparse_categorical_accuracy: 0.9047\n",
      "Epoch 37/60\n",
      "2328/2328 [==============================] - 57s 25ms/step - loss: 0.2569 - sparse_categorical_accuracy: 0.8998 - val_loss: 0.2480 - val_sparse_categorical_accuracy: 0.9060\n",
      "Epoch 38/60\n",
      "2328/2328 [==============================] - 56s 24ms/step - loss: 0.2522 - sparse_categorical_accuracy: 0.8976 - val_loss: 0.2436 - val_sparse_categorical_accuracy: 0.9043\n",
      "Epoch 39/60\n",
      "2328/2328 [==============================] - 56s 24ms/step - loss: 0.2481 - sparse_categorical_accuracy: 0.9009 - val_loss: 0.2426 - val_sparse_categorical_accuracy: 0.9068\n",
      "Epoch 40/60\n",
      "2328/2328 [==============================] - 57s 25ms/step - loss: 0.2484 - sparse_categorical_accuracy: 0.9041 - val_loss: 0.2382 - val_sparse_categorical_accuracy: 0.9103\n",
      "Epoch 41/60\n",
      "2328/2328 [==============================] - 59s 25ms/step - loss: 0.2448 - sparse_categorical_accuracy: 0.9051 - val_loss: 0.2356 - val_sparse_categorical_accuracy: 0.9146\n",
      "Epoch 42/60\n",
      "2328/2328 [==============================] - 57s 25ms/step - loss: 0.2404 - sparse_categorical_accuracy: 0.9061 - val_loss: 0.2332 - val_sparse_categorical_accuracy: 0.9103\n",
      "Epoch 43/60\n",
      "2328/2328 [==============================] - 58s 25ms/step - loss: 0.2390 - sparse_categorical_accuracy: 0.9071 - val_loss: 0.2329 - val_sparse_categorical_accuracy: 0.9128\n",
      "Epoch 44/60\n",
      "2328/2328 [==============================] - 58s 25ms/step - loss: 0.2355 - sparse_categorical_accuracy: 0.9051 - val_loss: 0.2298 - val_sparse_categorical_accuracy: 0.9146\n",
      "Epoch 45/60\n",
      "2328/2328 [==============================] - 58s 25ms/step - loss: 0.2379 - sparse_categorical_accuracy: 0.9069 - val_loss: 0.2305 - val_sparse_categorical_accuracy: 0.9133\n",
      "Epoch 46/60\n",
      "2328/2328 [==============================] - 58s 25ms/step - loss: 0.2374 - sparse_categorical_accuracy: 0.9070 - val_loss: 0.2234 - val_sparse_categorical_accuracy: 0.9133\n",
      "Epoch 47/60\n",
      "2328/2328 [==============================] - 59s 25ms/step - loss: 0.2335 - sparse_categorical_accuracy: 0.9087 - val_loss: 0.2221 - val_sparse_categorical_accuracy: 0.9150\n",
      "Epoch 48/60\n",
      "2328/2328 [==============================] - 59s 25ms/step - loss: 0.2325 - sparse_categorical_accuracy: 0.9084 - val_loss: 0.2211 - val_sparse_categorical_accuracy: 0.9171\n",
      "Epoch 49/60\n",
      "2328/2328 [==============================] - 59s 25ms/step - loss: 0.2338 - sparse_categorical_accuracy: 0.9120 - val_loss: 0.2187 - val_sparse_categorical_accuracy: 0.9124\n",
      "Epoch 50/60\n",
      "2328/2328 [==============================] - 58s 25ms/step - loss: 0.2281 - sparse_categorical_accuracy: 0.9128 - val_loss: 0.2225 - val_sparse_categorical_accuracy: 0.9094\n",
      "Epoch 51/60\n",
      "2328/2328 [==============================] - 59s 25ms/step - loss: 0.2264 - sparse_categorical_accuracy: 0.9100 - val_loss: 0.2156 - val_sparse_categorical_accuracy: 0.9154\n",
      "Epoch 52/60\n",
      "2328/2328 [==============================] - 58s 25ms/step - loss: 0.2220 - sparse_categorical_accuracy: 0.9131 - val_loss: 0.2117 - val_sparse_categorical_accuracy: 0.9167\n",
      "Epoch 53/60\n",
      "2328/2328 [==============================] - 59s 25ms/step - loss: 0.2183 - sparse_categorical_accuracy: 0.9166 - val_loss: 0.2106 - val_sparse_categorical_accuracy: 0.9206\n",
      "Epoch 54/60\n",
      "2328/2328 [==============================] - 59s 25ms/step - loss: 0.2241 - sparse_categorical_accuracy: 0.9166 - val_loss: 0.2087 - val_sparse_categorical_accuracy: 0.9197\n",
      "Epoch 55/60\n",
      "2328/2328 [==============================] - 58s 25ms/step - loss: 0.2159 - sparse_categorical_accuracy: 0.9189 - val_loss: 0.2065 - val_sparse_categorical_accuracy: 0.9197\n",
      "Epoch 56/60\n",
      "2328/2328 [==============================] - 60s 26ms/step - loss: 0.2163 - sparse_categorical_accuracy: 0.9154 - val_loss: 0.2051 - val_sparse_categorical_accuracy: 0.9219\n",
      "Epoch 57/60\n",
      "2328/2328 [==============================] - 58s 25ms/step - loss: 0.2143 - sparse_categorical_accuracy: 0.9155 - val_loss: 0.2027 - val_sparse_categorical_accuracy: 0.9197\n",
      "Epoch 58/60\n",
      "2328/2328 [==============================] - 59s 25ms/step - loss: 0.2105 - sparse_categorical_accuracy: 0.9185 - val_loss: 0.2012 - val_sparse_categorical_accuracy: 0.9236\n",
      "Epoch 59/60\n",
      "2328/2328 [==============================] - 58s 25ms/step - loss: 0.2156 - sparse_categorical_accuracy: 0.9207 - val_loss: 0.2007 - val_sparse_categorical_accuracy: 0.9201\n",
      "Epoch 60/60\n",
      "2328/2328 [==============================] - 59s 25ms/step - loss: 0.2103 - sparse_categorical_accuracy: 0.9224 - val_loss: 0.1989 - val_sparse_categorical_accuracy: 0.9223\n",
      "728/728 [==============================] - 7s 10ms/step - loss: 0.2210 - sparse_categorical_accuracy: 0.9203\n"
     ]
    }
   ],
   "source": [
    "model = build_model(\n",
    "    input_shape,\n",
    "    head_size=128,\n",
    "    num_heads=1,\n",
    "    ff_dim=2,\n",
    "    num_transformer_blocks=1,\n",
    "    mlp_units=[64],\n",
    "    mlp_dropout=0.50,\n",
    "    dropout=0.25,\n",
    ")\n",
    "\n",
    "model.compile(\n",
    "    loss=\"sparse_categorical_crossentropy\",\n",
    "    optimizer=keras.optimizers.Adam(learning_rate=1e-4),\n",
    "    metrics=[\"sparse_categorical_accuracy\"],\n",
    ")\n",
    "model.summary()\n",
    "\n",
    "callbacks = [keras.callbacks.EarlyStopping(patience=10, restore_best_weights=True)]\n",
    "\n",
    "history=model.fit(x_train,y_train,validation_split=0.2,epochs=60,batch_size=4,callbacks=callbacks,)\n",
    "\n",
    "score=model.evaluate(x_test,y_test,batch_size=4)"
   ]
  },
  {
   "cell_type": "code",
   "execution_count": 267,
   "id": "91d60092",
   "metadata": {},
   "outputs": [
    {
     "data": {
      "image/png": "[encoded data removed]",
      "text/plain": [
       "<Figure size 432x288 with 1 Axes>"
      ]
     },
     "metadata": {
      "needs_background": "light"
     },
     "output_type": "display_data"
    }
   ],
   "source": [
    "plt.plot(history.history['sparse_categorical_accuracy'])\n",
    "plt.plot(history.history['val_sparse_categorical_accuracy'])\n",
    "plt.title('Model Accuracy')\n",
    "plt.xlabel('Epochs')\n",
    "plt.ylabel('Accuracy')\n",
    "plt.legend(['Train','Test'],loc='best')\n",
    "plt.savefig('PTBDB_Accuracy.png')\n",
    "plt.show()"
   ]
  },
  {
   "cell_type": "code",
   "execution_count": 268,
   "id": "bcfc9558",
   "metadata": {},
   "outputs": [
    {
     "data": {
      "image/png": "[encoded data removed]",
      "text/plain": [
       "<Figure size 432x288 with 1 Axes>"
      ]
     },
     "metadata": {
      "needs_background": "light"
     },
     "output_type": "display_data"
    }
   ],
   "source": [
    "plt.plot(history.history['loss'])\n",
    "plt.plot(history.history['val_loss'])\n",
    "plt.title('Model Loss')\n",
    "plt.xlabel('Epochs')\n",
    "plt.ylabel('Loss')\n",
    "plt.legend(['Train','Test'],loc='best')\n",
    "plt.savefig('PTBDB_Loss.png')\n",
    "plt.show()"
   ]
  },
  {
   "cell_type": "code",
   "execution_count": 269,
   "id": "cc747797",
   "metadata": {},
   "outputs": [
    {
     "data": {
      "image/png": "[encoded data removed]",
      "text/plain": [
       "<Figure size 432x288 with 2 Axes>"
      ]
     },
     "metadata": {
      "needs_background": "light"
     },
     "output_type": "display_data"
    }
   ],
   "source": [
    "clf = SVC(random_state=0)\n",
    "clf.fit(X_train, Y_train)\n",
    "predictions = clf.predict(X_test)\n",
    "cm = confusion_matrix(Y_test, predictions, labels=clf.classes_)\n",
    "disp = ConfusionMatrixDisplay(confusion_matrix=cm, display_labels=clf.classes_)\n",
    "disp.plot()\n",
    "plt.savefig('PTBDB_ConfusionMatrix.png')\n",
    "plt.show()"
   ]
  },
  {
   "cell_type": "code",
   "execution_count": null,
   "id": "17c91255",
   "metadata": {},
   "outputs": [],
   "source": []
  }
 ],
 "metadata": {
  "kernelspec": {
   "display_name": "Python 3 (ipykernel)",
   "language": "python",
   "name": "python3"
  },
  "language_info": {
   "codemirror_mode": {
    "name": "ipython",
    "version": 3
   },
   "file_extension": ".py",
   "mimetype": "text/x-python",
   "name": "python",
   "nbconvert_exporter": "python",
   "pygments_lexer": "ipython3",
   "version": "3.10.7"
  }
 },
 "nbformat": 4,
 "nbformat_minor": 5
}
