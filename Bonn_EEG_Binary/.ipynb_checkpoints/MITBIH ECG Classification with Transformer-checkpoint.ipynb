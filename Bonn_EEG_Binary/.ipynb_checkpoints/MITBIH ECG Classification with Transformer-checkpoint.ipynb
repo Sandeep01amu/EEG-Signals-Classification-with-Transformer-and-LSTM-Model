{
 "cells": [
  {
   "cell_type": "code",
   "execution_count": 1,
   "id": "4b42afe7",
   "metadata": {},
   "outputs": [],
   "source": [
    "import numpy as np\n",
    "import pandas as pd\n",
    "import tensorflow as tf\n",
    "from keras_preprocessing.sequence import pad_sequences\n",
    "import keras\n",
    "import os\n",
    "import numpy as np\n",
    "import json\n",
    "import keras_tuner as kt\n",
    "from tensorflow.keras import optimizers\n",
    "from tensorflow.keras import layers\n",
    "import matplotlib.pyplot as plt\n",
    "import sys\n",
    "import sklearn as sk\n",
    "from tensorflow.keras.utils import to_categorical\n",
    "from tensorflow import keras as K\n",
    "from sklearn.model_selection import train_test_split\n",
    "from keras.utils.np_utils import to_categorical\n",
    "from sklearn.utils import class_weight, resample\n",
    "from sklearn.metrics import confusion_matrix, ConfusionMatrixDisplay\n",
    "from sklearn.svm import SVC\n",
    "from scipy import stats"
   ]
  },
  {
   "cell_type": "code",
   "execution_count": 2,
   "id": "aee225b8",
   "metadata": {},
   "outputs": [
    {
     "name": "stdout",
     "output_type": "stream",
     "text": [
      "Requirement already satisfied: seaborn in c:\\users\\sandeep\\appdata\\local\\programs\\python\\python310\\lib\\site-packages (0.12.1)\n",
      "Requirement already satisfied: matplotlib!=3.6.1,>=3.1 in c:\\users\\sandeep\\appdata\\local\\programs\\python\\python310\\lib\\site-packages (from seaborn) (3.5.2)\n",
      "Requirement already satisfied: numpy>=1.17 in c:\\users\\sandeep\\appdata\\local\\programs\\python\\python310\\lib\\site-packages (from seaborn) (1.23.0)\n",
      "Requirement already satisfied: pandas>=0.25 in c:\\users\\sandeep\\appdata\\roaming\\python\\python310\\site-packages (from seaborn) (1.4.3)\n",
      "Requirement already satisfied: pyparsing>=2.2.1 in c:\\users\\sandeep\\appdata\\local\\programs\\python\\python310\\lib\\site-packages (from matplotlib!=3.6.1,>=3.1->seaborn) (3.0.9)\n",
      "Requirement already satisfied: kiwisolver>=1.0.1 in c:\\users\\sandeep\\appdata\\local\\programs\\python\\python310\\lib\\site-packages (from matplotlib!=3.6.1,>=3.1->seaborn) (1.4.3)\n",
      "Requirement already satisfied: python-dateutil>=2.7 in c:\\users\\sandeep\\appdata\\local\\programs\\python\\python310\\lib\\site-packages (from matplotlib!=3.6.1,>=3.1->seaborn) (2.8.2)\n",
      "Requirement already satisfied: pillow>=6.2.0 in c:\\users\\sandeep\\appdata\\local\\programs\\python\\python310\\lib\\site-packages (from matplotlib!=3.6.1,>=3.1->seaborn) (9.2.0)\n",
      "Requirement already satisfied: fonttools>=4.22.0 in c:\\users\\sandeep\\appdata\\local\\programs\\python\\python310\\lib\\site-packages (from matplotlib!=3.6.1,>=3.1->seaborn) (4.34.4)\n",
      "Requirement already satisfied: packaging>=20.0 in c:\\users\\sandeep\\appdata\\local\\programs\\python\\python310\\lib\\site-packages (from matplotlib!=3.6.1,>=3.1->seaborn) (21.3)\n",
      "Requirement already satisfied: cycler>=0.10 in c:\\users\\sandeep\\appdata\\local\\programs\\python\\python310\\lib\\site-packages (from matplotlib!=3.6.1,>=3.1->seaborn) (0.11.0)\n",
      "Requirement already satisfied: pytz>=2020.1 in c:\\users\\sandeep\\appdata\\roaming\\python\\python310\\site-packages (from pandas>=0.25->seaborn) (2022.1)\n",
      "Requirement already satisfied: six>=1.5 in c:\\users\\sandeep\\appdata\\local\\programs\\python\\python310\\lib\\site-packages (from python-dateutil>=2.7->matplotlib!=3.6.1,>=3.1->seaborn) (1.16.0)\n"
     ]
    }
   ],
   "source": [
    "!pip install seaborn"
   ]
  },
  {
   "cell_type": "code",
   "execution_count": 3,
   "id": "a031a8c8",
   "metadata": {},
   "outputs": [],
   "source": [
    "import seaborn as sb"
   ]
  },
  {
   "cell_type": "code",
   "execution_count": 4,
   "id": "43402fd4",
   "metadata": {},
   "outputs": [
    {
     "name": "stdout",
     "output_type": "stream",
     "text": [
      "Tensor Flow Version: 2.9.1\n",
      "Keras Version: 2.9.0\n",
      "\n",
      "Python 3.10.7 (tags/v3.10.7:6cc6b13, Sep  5 2022, 14:08:36) [MSC v.1933 64 bit (AMD64)]\n",
      "Pandas 1.4.3\n",
      "Scikit-Learn 1.1.2\n",
      "GPU is NOT AVAILABLE\n"
     ]
    }
   ],
   "source": [
    "print(f\"Tensor Flow Version: {tf.__version__}\")\n",
    "print(f\"Keras Version: {keras.__version__}\")\n",
    "print()\n",
    "print(f\"Python {sys.version}\")\n",
    "print(f\"Pandas {pd.__version__}\")\n",
    "print(f\"Scikit-Learn {sk.__version__}\")\n",
    "gpu = len(tf.config.list_physical_devices('GPU'))>0\n",
    "print(\"GPU is\", \"available\" if gpu else \"NOT AVAILABLE\")"
   ]
  },
  {
   "cell_type": "code",
   "execution_count": 5,
   "id": "7466b4c6",
   "metadata": {},
   "outputs": [],
   "source": [
    "train_data = pd.read_csv('mitbih_train.csv', header=None)\n",
    "test_data = pd.read_csv('mitbih_test.csv', header=None)"
   ]
  },
  {
   "cell_type": "code",
   "execution_count": 6,
   "id": "3641ddab",
   "metadata": {},
   "outputs": [],
   "source": [
    "train_target = train_data[187].value_counts()"
   ]
  },
  {
   "cell_type": "code",
   "execution_count": 7,
   "id": "b3e0659d",
   "metadata": {},
   "outputs": [
    {
     "data": {
      "text/plain": [
       "0.0    72471\n",
       "4.0     6431\n",
       "2.0     5788\n",
       "1.0     2223\n",
       "3.0      641\n",
       "Name: 187, dtype: int64"
      ]
     },
     "execution_count": 7,
     "metadata": {},
     "output_type": "execute_result"
    }
   ],
   "source": [
    "train_target"
   ]
  },
  {
   "cell_type": "code",
   "execution_count": 8,
   "id": "bb4f99e4",
   "metadata": {},
   "outputs": [
    {
     "data": {
      "image/png": "[encoded data removed]",
      "text/plain": [
       "<Figure size 432x288 with 1 Axes>"
      ]
     },
     "metadata": {
      "needs_background": "light"
     },
     "output_type": "display_data"
    }
   ],
   "source": [
    "plt.bar(train_target.index,train_target.values, color = sb.color_palette()[4]);"
   ]
  },
  {
   "cell_type": "code",
   "execution_count": 9,
   "id": "79998b83",
   "metadata": {},
   "outputs": [],
   "source": [
    "np.random.seed(2018)\n",
    "sample = np.random.choice(train_data.shape[0], 200, replace = False)\n",
    "subset = train_data.loc[sample]"
   ]
  },
  {
   "cell_type": "code",
   "execution_count": 10,
   "id": "2d160064",
   "metadata": {},
   "outputs": [
    {
     "data": {
      "text/html": [
       "<div>\n",
       "<style scoped>\n",
       "    .dataframe tbody tr th:only-of-type {\n",
       "        vertical-align: middle;\n",
       "    }\n",
       "\n",
       "    .dataframe tbody tr th {\n",
       "        vertical-align: top;\n",
       "    }\n",
       "\n",
       "    .dataframe thead th {\n",
       "        text-align: right;\n",
       "    }\n",
       "</style>\n",
       "<table border=\"1\" class=\"dataframe\">\n",
       "  <thead>\n",
       "    <tr style=\"text-align: right;\">\n",
       "      <th></th>\n",
       "      <th>0</th>\n",
       "      <th>1</th>\n",
       "      <th>2</th>\n",
       "      <th>3</th>\n",
       "      <th>4</th>\n",
       "      <th>5</th>\n",
       "      <th>6</th>\n",
       "      <th>7</th>\n",
       "      <th>8</th>\n",
       "      <th>9</th>\n",
       "      <th>...</th>\n",
       "      <th>178</th>\n",
       "      <th>179</th>\n",
       "      <th>180</th>\n",
       "      <th>181</th>\n",
       "      <th>182</th>\n",
       "      <th>183</th>\n",
       "      <th>184</th>\n",
       "      <th>185</th>\n",
       "      <th>186</th>\n",
       "      <th>187</th>\n",
       "    </tr>\n",
       "  </thead>\n",
       "  <tbody>\n",
       "    <tr>\n",
       "      <th>64457</th>\n",
       "      <td>0.962963</td>\n",
       "      <td>0.811966</td>\n",
       "      <td>0.279202</td>\n",
       "      <td>0.025641</td>\n",
       "      <td>0.074074</td>\n",
       "      <td>0.085470</td>\n",
       "      <td>0.022792</td>\n",
       "      <td>0.005698</td>\n",
       "      <td>0.025641</td>\n",
       "      <td>0.022792</td>\n",
       "      <td>...</td>\n",
       "      <td>0.000000</td>\n",
       "      <td>0.000000</td>\n",
       "      <td>0.000000</td>\n",
       "      <td>0.000000</td>\n",
       "      <td>0.000000</td>\n",
       "      <td>0.000000</td>\n",
       "      <td>0.000000</td>\n",
       "      <td>0.000000</td>\n",
       "      <td>0.000000</td>\n",
       "      <td>0.0</td>\n",
       "    </tr>\n",
       "    <tr>\n",
       "      <th>36271</th>\n",
       "      <td>0.979487</td>\n",
       "      <td>0.561538</td>\n",
       "      <td>0.353846</td>\n",
       "      <td>0.233333</td>\n",
       "      <td>0.135897</td>\n",
       "      <td>0.074359</td>\n",
       "      <td>0.033333</td>\n",
       "      <td>0.023077</td>\n",
       "      <td>0.017949</td>\n",
       "      <td>0.017949</td>\n",
       "      <td>...</td>\n",
       "      <td>0.000000</td>\n",
       "      <td>0.000000</td>\n",
       "      <td>0.000000</td>\n",
       "      <td>0.000000</td>\n",
       "      <td>0.000000</td>\n",
       "      <td>0.000000</td>\n",
       "      <td>0.000000</td>\n",
       "      <td>0.000000</td>\n",
       "      <td>0.000000</td>\n",
       "      <td>0.0</td>\n",
       "    </tr>\n",
       "    <tr>\n",
       "      <th>27479</th>\n",
       "      <td>0.960000</td>\n",
       "      <td>0.792000</td>\n",
       "      <td>0.468000</td>\n",
       "      <td>0.060000</td>\n",
       "      <td>0.000000</td>\n",
       "      <td>0.152000</td>\n",
       "      <td>0.196000</td>\n",
       "      <td>0.236000</td>\n",
       "      <td>0.256000</td>\n",
       "      <td>0.268000</td>\n",
       "      <td>...</td>\n",
       "      <td>0.000000</td>\n",
       "      <td>0.000000</td>\n",
       "      <td>0.000000</td>\n",
       "      <td>0.000000</td>\n",
       "      <td>0.000000</td>\n",
       "      <td>0.000000</td>\n",
       "      <td>0.000000</td>\n",
       "      <td>0.000000</td>\n",
       "      <td>0.000000</td>\n",
       "      <td>0.0</td>\n",
       "    </tr>\n",
       "    <tr>\n",
       "      <th>26599</th>\n",
       "      <td>0.988920</td>\n",
       "      <td>0.858726</td>\n",
       "      <td>0.412742</td>\n",
       "      <td>0.000000</td>\n",
       "      <td>0.199446</td>\n",
       "      <td>0.304709</td>\n",
       "      <td>0.373961</td>\n",
       "      <td>0.409972</td>\n",
       "      <td>0.423823</td>\n",
       "      <td>0.385042</td>\n",
       "      <td>...</td>\n",
       "      <td>0.000000</td>\n",
       "      <td>0.000000</td>\n",
       "      <td>0.000000</td>\n",
       "      <td>0.000000</td>\n",
       "      <td>0.000000</td>\n",
       "      <td>0.000000</td>\n",
       "      <td>0.000000</td>\n",
       "      <td>0.000000</td>\n",
       "      <td>0.000000</td>\n",
       "      <td>0.0</td>\n",
       "    </tr>\n",
       "    <tr>\n",
       "      <th>13752</th>\n",
       "      <td>1.000000</td>\n",
       "      <td>0.624060</td>\n",
       "      <td>0.067669</td>\n",
       "      <td>0.112782</td>\n",
       "      <td>0.187970</td>\n",
       "      <td>0.142857</td>\n",
       "      <td>0.131579</td>\n",
       "      <td>0.090226</td>\n",
       "      <td>0.056391</td>\n",
       "      <td>0.071429</td>\n",
       "      <td>...</td>\n",
       "      <td>0.000000</td>\n",
       "      <td>0.000000</td>\n",
       "      <td>0.000000</td>\n",
       "      <td>0.000000</td>\n",
       "      <td>0.000000</td>\n",
       "      <td>0.000000</td>\n",
       "      <td>0.000000</td>\n",
       "      <td>0.000000</td>\n",
       "      <td>0.000000</td>\n",
       "      <td>0.0</td>\n",
       "    </tr>\n",
       "    <tr>\n",
       "      <th>...</th>\n",
       "      <td>...</td>\n",
       "      <td>...</td>\n",
       "      <td>...</td>\n",
       "      <td>...</td>\n",
       "      <td>...</td>\n",
       "      <td>...</td>\n",
       "      <td>...</td>\n",
       "      <td>...</td>\n",
       "      <td>...</td>\n",
       "      <td>...</td>\n",
       "      <td>...</td>\n",
       "      <td>...</td>\n",
       "      <td>...</td>\n",
       "      <td>...</td>\n",
       "      <td>...</td>\n",
       "      <td>...</td>\n",
       "      <td>...</td>\n",
       "      <td>...</td>\n",
       "      <td>...</td>\n",
       "      <td>...</td>\n",
       "      <td>...</td>\n",
       "    </tr>\n",
       "    <tr>\n",
       "      <th>77146</th>\n",
       "      <td>0.412451</td>\n",
       "      <td>0.396887</td>\n",
       "      <td>0.289235</td>\n",
       "      <td>0.130999</td>\n",
       "      <td>0.154345</td>\n",
       "      <td>0.178988</td>\n",
       "      <td>0.097276</td>\n",
       "      <td>0.035019</td>\n",
       "      <td>0.020752</td>\n",
       "      <td>0.000000</td>\n",
       "      <td>...</td>\n",
       "      <td>0.884565</td>\n",
       "      <td>0.684825</td>\n",
       "      <td>0.503243</td>\n",
       "      <td>0.343709</td>\n",
       "      <td>0.300908</td>\n",
       "      <td>0.313878</td>\n",
       "      <td>0.338521</td>\n",
       "      <td>0.352789</td>\n",
       "      <td>0.351492</td>\n",
       "      <td>2.0</td>\n",
       "    </tr>\n",
       "    <tr>\n",
       "      <th>26244</th>\n",
       "      <td>0.969091</td>\n",
       "      <td>0.863636</td>\n",
       "      <td>0.627273</td>\n",
       "      <td>0.356364</td>\n",
       "      <td>0.121818</td>\n",
       "      <td>0.034545</td>\n",
       "      <td>0.040000</td>\n",
       "      <td>0.061818</td>\n",
       "      <td>0.080000</td>\n",
       "      <td>0.089091</td>\n",
       "      <td>...</td>\n",
       "      <td>0.000000</td>\n",
       "      <td>0.000000</td>\n",
       "      <td>0.000000</td>\n",
       "      <td>0.000000</td>\n",
       "      <td>0.000000</td>\n",
       "      <td>0.000000</td>\n",
       "      <td>0.000000</td>\n",
       "      <td>0.000000</td>\n",
       "      <td>0.000000</td>\n",
       "      <td>0.0</td>\n",
       "    </tr>\n",
       "    <tr>\n",
       "      <th>12805</th>\n",
       "      <td>1.000000</td>\n",
       "      <td>0.976190</td>\n",
       "      <td>0.608844</td>\n",
       "      <td>0.000000</td>\n",
       "      <td>0.017007</td>\n",
       "      <td>0.085034</td>\n",
       "      <td>0.112245</td>\n",
       "      <td>0.098639</td>\n",
       "      <td>0.125850</td>\n",
       "      <td>0.115646</td>\n",
       "      <td>...</td>\n",
       "      <td>0.000000</td>\n",
       "      <td>0.000000</td>\n",
       "      <td>0.000000</td>\n",
       "      <td>0.000000</td>\n",
       "      <td>0.000000</td>\n",
       "      <td>0.000000</td>\n",
       "      <td>0.000000</td>\n",
       "      <td>0.000000</td>\n",
       "      <td>0.000000</td>\n",
       "      <td>0.0</td>\n",
       "    </tr>\n",
       "    <tr>\n",
       "      <th>37083</th>\n",
       "      <td>1.000000</td>\n",
       "      <td>0.779070</td>\n",
       "      <td>0.209302</td>\n",
       "      <td>0.050388</td>\n",
       "      <td>0.065891</td>\n",
       "      <td>0.093023</td>\n",
       "      <td>0.077519</td>\n",
       "      <td>0.124031</td>\n",
       "      <td>0.174419</td>\n",
       "      <td>0.131783</td>\n",
       "      <td>...</td>\n",
       "      <td>0.217054</td>\n",
       "      <td>0.000000</td>\n",
       "      <td>0.000000</td>\n",
       "      <td>0.000000</td>\n",
       "      <td>0.000000</td>\n",
       "      <td>0.000000</td>\n",
       "      <td>0.000000</td>\n",
       "      <td>0.000000</td>\n",
       "      <td>0.000000</td>\n",
       "      <td>0.0</td>\n",
       "    </tr>\n",
       "    <tr>\n",
       "      <th>74004</th>\n",
       "      <td>0.894309</td>\n",
       "      <td>0.349593</td>\n",
       "      <td>0.276423</td>\n",
       "      <td>0.195122</td>\n",
       "      <td>0.138211</td>\n",
       "      <td>0.113821</td>\n",
       "      <td>0.121951</td>\n",
       "      <td>0.113821</td>\n",
       "      <td>0.126016</td>\n",
       "      <td>0.105691</td>\n",
       "      <td>...</td>\n",
       "      <td>0.000000</td>\n",
       "      <td>0.000000</td>\n",
       "      <td>0.000000</td>\n",
       "      <td>0.000000</td>\n",
       "      <td>0.000000</td>\n",
       "      <td>0.000000</td>\n",
       "      <td>0.000000</td>\n",
       "      <td>0.000000</td>\n",
       "      <td>0.000000</td>\n",
       "      <td>1.0</td>\n",
       "    </tr>\n",
       "  </tbody>\n",
       "</table>\n",
       "<p>200 rows × 188 columns</p>\n",
       "</div>"
      ],
      "text/plain": [
       "            0         1         2         3         4         5         6    \\\n",
       "64457  0.962963  0.811966  0.279202  0.025641  0.074074  0.085470  0.022792   \n",
       "36271  0.979487  0.561538  0.353846  0.233333  0.135897  0.074359  0.033333   \n",
       "27479  0.960000  0.792000  0.468000  0.060000  0.000000  0.152000  0.196000   \n",
       "26599  0.988920  0.858726  0.412742  0.000000  0.199446  0.304709  0.373961   \n",
       "13752  1.000000  0.624060  0.067669  0.112782  0.187970  0.142857  0.131579   \n",
       "...         ...       ...       ...       ...       ...       ...       ...   \n",
       "77146  0.412451  0.396887  0.289235  0.130999  0.154345  0.178988  0.097276   \n",
       "26244  0.969091  0.863636  0.627273  0.356364  0.121818  0.034545  0.040000   \n",
       "12805  1.000000  0.976190  0.608844  0.000000  0.017007  0.085034  0.112245   \n",
       "37083  1.000000  0.779070  0.209302  0.050388  0.065891  0.093023  0.077519   \n",
       "74004  0.894309  0.349593  0.276423  0.195122  0.138211  0.113821  0.121951   \n",
       "\n",
       "            7         8         9    ...       178       179       180  \\\n",
       "64457  0.005698  0.025641  0.022792  ...  0.000000  0.000000  0.000000   \n",
       "36271  0.023077  0.017949  0.017949  ...  0.000000  0.000000  0.000000   \n",
       "27479  0.236000  0.256000  0.268000  ...  0.000000  0.000000  0.000000   \n",
       "26599  0.409972  0.423823  0.385042  ...  0.000000  0.000000  0.000000   \n",
       "13752  0.090226  0.056391  0.071429  ...  0.000000  0.000000  0.000000   \n",
       "...         ...       ...       ...  ...       ...       ...       ...   \n",
       "77146  0.035019  0.020752  0.000000  ...  0.884565  0.684825  0.503243   \n",
       "26244  0.061818  0.080000  0.089091  ...  0.000000  0.000000  0.000000   \n",
       "12805  0.098639  0.125850  0.115646  ...  0.000000  0.000000  0.000000   \n",
       "37083  0.124031  0.174419  0.131783  ...  0.217054  0.000000  0.000000   \n",
       "74004  0.113821  0.126016  0.105691  ...  0.000000  0.000000  0.000000   \n",
       "\n",
       "            181       182       183       184       185       186  187  \n",
       "64457  0.000000  0.000000  0.000000  0.000000  0.000000  0.000000  0.0  \n",
       "36271  0.000000  0.000000  0.000000  0.000000  0.000000  0.000000  0.0  \n",
       "27479  0.000000  0.000000  0.000000  0.000000  0.000000  0.000000  0.0  \n",
       "26599  0.000000  0.000000  0.000000  0.000000  0.000000  0.000000  0.0  \n",
       "13752  0.000000  0.000000  0.000000  0.000000  0.000000  0.000000  0.0  \n",
       "...         ...       ...       ...       ...       ...       ...  ...  \n",
       "77146  0.343709  0.300908  0.313878  0.338521  0.352789  0.351492  2.0  \n",
       "26244  0.000000  0.000000  0.000000  0.000000  0.000000  0.000000  0.0  \n",
       "12805  0.000000  0.000000  0.000000  0.000000  0.000000  0.000000  0.0  \n",
       "37083  0.000000  0.000000  0.000000  0.000000  0.000000  0.000000  0.0  \n",
       "74004  0.000000  0.000000  0.000000  0.000000  0.000000  0.000000  1.0  \n",
       "\n",
       "[200 rows x 188 columns]"
      ]
     },
     "execution_count": 10,
     "metadata": {},
     "output_type": "execute_result"
    }
   ],
   "source": [
    "subset"
   ]
  },
  {
   "cell_type": "code",
   "execution_count": 11,
   "id": "c69c2f1c",
   "metadata": {},
   "outputs": [
    {
     "data": {
      "text/plain": [
       "79.5"
      ]
     },
     "execution_count": 11,
     "metadata": {},
     "output_type": "execute_result"
    }
   ],
   "source": [
    "percentages = [count / subset.shape[0] * 100 for count in subset[187].value_counts()]\n",
    "percentages[0]"
   ]
  },
  {
   "cell_type": "code",
   "execution_count": 12,
   "id": "830e9066",
   "metadata": {},
   "outputs": [
    {
     "name": "stdout",
     "output_type": "stream",
     "text": [
      "the precent of 0 is : 79.5 %\n",
      "the precent of 4 is : 10.5 %\n",
      "the precent of 2 is : 5.5 %\n",
      "the precent of 1 is : 4.0 %\n",
      "the precent of 3 is : 0.5 %\n"
     ]
    }
   ],
   "source": [
    "for i in np.arange(len(percentages)):\n",
    "    print(f'the precent of {int(train_target.index[i])} is : {np.round(percentages[i], 2) } %')"
   ]
  },
  {
   "cell_type": "code",
   "execution_count": 13,
   "id": "ea071676",
   "metadata": {},
   "outputs": [
    {
     "data": {
      "image/png": "[encoded data removed]",
      "text/plain": [
       "<Figure size 432x288 with 1 Axes>"
      ]
     },
     "metadata": {
      "needs_background": "light"
     },
     "output_type": "display_data"
    }
   ],
   "source": [
    "base_color = sb.color_palette()[0]\n",
    "type_orderion = subset[187].value_counts().index\n",
    "sb.countplot(data = subset, y = 187, color = base_color, order = type_orderion );\n",
    "plt.xticks(rotation = 90);"
   ]
  },
  {
   "cell_type": "code",
   "execution_count": 14,
   "id": "24301acd",
   "metadata": {},
   "outputs": [],
   "source": [
    "target1=train_data[train_data[187]==1]\n",
    "target2=train_data[train_data[187]==2]\n",
    "target3=train_data[train_data[187]==3]\n",
    "target4=train_data[train_data[187]==4]\n",
    "target0=(train_data[train_data[187]==0]).sample(n=20000,random_state=42)\n",
    "\n",
    "target1_sample=resample(target1,replace=True,n_samples=20000,random_state=0)\n",
    "target2_sample=resample(target2,replace=True,n_samples=20000,random_state=0)\n",
    "target3_sample=resample(target3,replace=True,n_samples=20000,random_state=0)\n",
    "target4_sample=resample(target4,replace=True,n_samples=20000,random_state=0)\n",
    "\n",
    "train_data=pd.concat([target0,target1_sample,target2_sample,target3_sample,target4_sample])"
   ]
  },
  {
   "cell_type": "code",
   "execution_count": 15,
   "id": "a8d1b7eb",
   "metadata": {},
   "outputs": [],
   "source": [
    "train_target = train_data[187].value_counts()"
   ]
  },
  {
   "cell_type": "code",
   "execution_count": 16,
   "id": "f47f16b1",
   "metadata": {},
   "outputs": [
    {
     "data": {
      "text/plain": [
       "0.0    20000\n",
       "1.0    20000\n",
       "2.0    20000\n",
       "3.0    20000\n",
       "4.0    20000\n",
       "Name: 187, dtype: int64"
      ]
     },
     "execution_count": 16,
     "metadata": {},
     "output_type": "execute_result"
    }
   ],
   "source": [
    "train_target"
   ]
  },
  {
   "cell_type": "code",
   "execution_count": 17,
   "id": "dbcdb634",
   "metadata": {},
   "outputs": [
    {
     "data": {
      "image/png": "[encoded data removed]",
      "text/plain": [
       "<Figure size 432x288 with 1 Axes>"
      ]
     },
     "metadata": {
      "needs_background": "light"
     },
     "output_type": "display_data"
    }
   ],
   "source": [
    "plt.bar(train_target.index,train_target.values, color = 'green');"
   ]
  },
  {
   "cell_type": "code",
   "execution_count": 18,
   "id": "28e83c17",
   "metadata": {},
   "outputs": [
    {
     "data": {
      "image/png": "[encoded data removed]",
      "text/plain": [
       "<Figure size 864x360.72 with 1 Axes>"
      ]
     },
     "metadata": {},
     "output_type": "display_data"
    }
   ],
   "source": [
    "sorted_counts = train_data[187].value_counts();\n",
    "plt.figure(figsize = [12,5.01])\n",
    "plt.pie(sorted_counts, labels = sorted_counts.index, startangle = 90,\n",
    "        counterclock = False);\n",
    "plt.axis('square');"
   ]
  },
  {
   "cell_type": "code",
   "execution_count": 19,
   "id": "879b8be8",
   "metadata": {},
   "outputs": [],
   "source": [
    "test_target = test_data[187].value_counts()"
   ]
  },
  {
   "cell_type": "code",
   "execution_count": 20,
   "id": "fd072a64",
   "metadata": {},
   "outputs": [
    {
     "data": {
      "text/plain": [
       "0.0    18118\n",
       "4.0     1608\n",
       "2.0     1448\n",
       "1.0      556\n",
       "3.0      162\n",
       "Name: 187, dtype: int64"
      ]
     },
     "execution_count": 20,
     "metadata": {},
     "output_type": "execute_result"
    }
   ],
   "source": [
    "test_target"
   ]
  },
  {
   "cell_type": "code",
   "execution_count": 21,
   "id": "818e3ad3",
   "metadata": {},
   "outputs": [
    {
     "data": {
      "image/png": "[encoded data removed]",
      "text/plain": [
       "<Figure size 432x288 with 1 Axes>"
      ]
     },
     "metadata": {
      "needs_background": "light"
     },
     "output_type": "display_data"
    }
   ],
   "source": [
    "plt.bar(test_target.index,test_target.values, color = sb.color_palette()[0]);"
   ]
  },
  {
   "cell_type": "code",
   "execution_count": 22,
   "id": "7a8dba7d",
   "metadata": {},
   "outputs": [],
   "source": [
    "np.random.seed(2020)\n",
    "sample2 = np.random.choice(test_data.shape[0], 200, replace = False)\n",
    "subset2 = test_data.loc[sample2]"
   ]
  },
  {
   "cell_type": "code",
   "execution_count": 23,
   "id": "c990d755",
   "metadata": {},
   "outputs": [
    {
     "data": {
      "text/plain": [
       "80.5"
      ]
     },
     "execution_count": 23,
     "metadata": {},
     "output_type": "execute_result"
    }
   ],
   "source": [
    "percentages = [count / subset2.shape[0] * 100 for count in subset2[187].value_counts()]\n",
    "percentages[0]"
   ]
  },
  {
   "cell_type": "code",
   "execution_count": 24,
   "id": "6db0d877",
   "metadata": {},
   "outputs": [
    {
     "name": "stdout",
     "output_type": "stream",
     "text": [
      "the precent of 0 is : 80.5 %\n",
      "the precent of 1 is : 9.5 %\n",
      "the precent of 2 is : 8.0 %\n",
      "the precent of 3 is : 2.0 %\n"
     ]
    }
   ],
   "source": [
    "for i in np.arange(len(percentages)):\n",
    "    print(f'the precent of {int(test_data.index[i])} is : {np.round(percentages[i], 2) } %')"
   ]
  },
  {
   "cell_type": "code",
   "execution_count": 25,
   "id": "453e7a22",
   "metadata": {},
   "outputs": [],
   "source": [
    "target1=test_data[test_data[187]==1]\n",
    "target2=test_data[test_data[187]==2]\n",
    "target3=test_data[test_data[187]==3]\n",
    "target4=test_data[test_data[187]==4]\n",
    "target0=(test_data[test_data[187]==0]).sample(n=2000,random_state=0)\n",
    "\n",
    "target1_sample=resample(target1,replace=True,n_samples=2000,random_state=0)\n",
    "target2_sample=resample(target2,replace=True,n_samples=2000,random_state=0)\n",
    "target3_sample=resample(target3,replace=True,n_samples=2000,random_state=0)\n",
    "target4_sample=resample(target4,replace=True,n_samples=2000,random_state=0)\n",
    "\n",
    "test_data=pd.concat([target0,target1_sample,target2_sample,target3_sample,target4_sample])"
   ]
  },
  {
   "cell_type": "code",
   "execution_count": 26,
   "id": "4f7f8060",
   "metadata": {},
   "outputs": [],
   "source": [
    "test_target = test_data[187].value_counts()"
   ]
  },
  {
   "cell_type": "code",
   "execution_count": 27,
   "id": "64b4af29",
   "metadata": {},
   "outputs": [
    {
     "data": {
      "text/plain": [
       "0.0    2000\n",
       "1.0    2000\n",
       "2.0    2000\n",
       "3.0    2000\n",
       "4.0    2000\n",
       "Name: 187, dtype: int64"
      ]
     },
     "execution_count": 27,
     "metadata": {},
     "output_type": "execute_result"
    }
   ],
   "source": [
    "test_target"
   ]
  },
  {
   "cell_type": "code",
   "execution_count": 28,
   "id": "bfd35bbb",
   "metadata": {},
   "outputs": [
    {
     "data": {
      "image/png": "[encoded data removed]",
      "text/plain": [
       "<Figure size 432x288 with 1 Axes>"
      ]
     },
     "metadata": {
      "needs_background": "light"
     },
     "output_type": "display_data"
    }
   ],
   "source": [
    "plt.bar(train_target.index,train_target.values, color = 'green');"
   ]
  },
  {
   "cell_type": "code",
   "execution_count": 29,
   "id": "bcade8c0",
   "metadata": {},
   "outputs": [
    {
     "data": {
      "image/png": "[encoded data removed]",
      "text/plain": [
       "<Figure size 864x360.72 with 1 Axes>"
      ]
     },
     "metadata": {},
     "output_type": "display_data"
    }
   ],
   "source": [
    "sorted_counts = train_data[187].value_counts();\n",
    "plt.figure(figsize = [12,5.01])\n",
    "plt.pie(sorted_counts, labels = sorted_counts.index, startangle = 90,\n",
    "        counterclock = False);\n",
    "plt.axis('square');"
   ]
  },
  {
   "cell_type": "code",
   "execution_count": 30,
   "id": "d1cc56cf",
   "metadata": {},
   "outputs": [],
   "source": [
    "pearson_coef, p_value = stats.pearsonr(train_data[1], train_data[187])"
   ]
  },
  {
   "cell_type": "code",
   "execution_count": 31,
   "id": "dfb294a9",
   "metadata": {},
   "outputs": [],
   "source": [
    "l = [('1', 1),('2',2),('3',3)]"
   ]
  },
  {
   "cell_type": "code",
   "execution_count": 32,
   "id": "824384e9",
   "metadata": {},
   "outputs": [
    {
     "name": "stdout",
     "output_type": "stream",
     "text": [
      "[('1', 1), ('2', 2), ('3', 3)]\n"
     ]
    }
   ],
   "source": [
    "if max(l):\n",
    "    print(l)"
   ]
  },
  {
   "cell_type": "code",
   "execution_count": 33,
   "id": "ee0b1cf4",
   "metadata": {},
   "outputs": [
    {
     "data": {
      "text/plain": [
       "('3', 3)"
      ]
     },
     "execution_count": 33,
     "metadata": {},
     "output_type": "execute_result"
    }
   ],
   "source": [
    "max(l)"
   ]
  },
  {
   "cell_type": "code",
   "execution_count": 34,
   "id": "82434453",
   "metadata": {},
   "outputs": [],
   "source": [
    "effictive_list = []\n",
    "for i in train_data.columns:\n",
    "    if i != 187:\n",
    "        pearson_coef, p_value = stats.pearsonr(train_data[i], train_data[187])\n",
    "        effictive_list.append((f'column number : {i}', f'Pearson Correlation {pearson_coef}', f'P-value : {p_value}'))\n",
    "    else: break"
   ]
  },
  {
   "cell_type": "code",
   "execution_count": 35,
   "id": "3ea22570",
   "metadata": {},
   "outputs": [
    {
     "name": "stdout",
     "output_type": "stream",
     "text": [
      "***************************************************************************\n",
      "('column number : 99', 'Pearson Correlation 0.2991597305773191', 'P-value : 0.0')\n",
      "***************************************************************************\n"
     ]
    }
   ],
   "source": [
    "print('*' * 75)\n",
    "print(max(effictive_list))\n",
    "print('*' * 75)"
   ]
  },
  {
   "cell_type": "code",
   "execution_count": 36,
   "id": "6ac80e8e",
   "metadata": {},
   "outputs": [
    {
     "data": {
      "text/plain": [
       "Text(0, 0.5, 'time in seconds')"
      ]
     },
     "execution_count": 36,
     "metadata": {},
     "output_type": "execute_result"
    },
    {
     "data": {
      "image/png": "[encoded data removed]",
      "text/plain": [
       "<Figure size 864x289.44 with 1 Axes>"
      ]
     },
     "metadata": {
      "needs_background": "light"
     },
     "output_type": "display_data"
    }
   ],
   "source": [
    "def add_guassian_noise(signal):\n",
    "    noise = np.random.normal(0,0.05,186)\n",
    "    return(signal + noise)\n",
    "noise_data = add_guassian_noise(train_data.iloc[0,:186])\n",
    "plt.figure(figsize = [12,4.02])\n",
    "plt.plot(train_data.iloc[0,:186], color = 'green')\n",
    "plt.title('data without noise')\n",
    "plt.xlabel('ECG in mili volts')\n",
    "plt.ylabel('time in seconds')"
   ]
  },
  {
   "cell_type": "code",
   "execution_count": 37,
   "id": "9c7eceb2",
   "metadata": {},
   "outputs": [
    {
     "data": {
      "image/png": "[encoded data removed]",
      "text/plain": [
       "<Figure size 864x289.44 with 1 Axes>"
      ]
     },
     "metadata": {
      "needs_background": "light"
     },
     "output_type": "display_data"
    }
   ],
   "source": [
    "plt.figure(figsize = [12,4.02])\n",
    "plt.plot(noise_data, color = 'red')\n",
    "plt.title('data with noise')\n",
    "plt.xlabel('ECG in mili volts')\n",
    "plt.ylabel('time in seconds')\n",
    "plt.show()"
   ]
  },
  {
   "cell_type": "code",
   "execution_count": 38,
   "id": "d4f52f71",
   "metadata": {},
   "outputs": [
    {
     "data": {
      "text/plain": [
       "3.1333333333333333"
      ]
     },
     "execution_count": 38,
     "metadata": {},
     "output_type": "execute_result"
    }
   ],
   "source": [
    "len(train_data.columns)/60"
   ]
  },
  {
   "cell_type": "code",
   "execution_count": 39,
   "id": "4258d81a",
   "metadata": {},
   "outputs": [],
   "source": [
    "df = train_data.copy()"
   ]
  },
  {
   "cell_type": "code",
   "execution_count": 40,
   "id": "11cc3dce",
   "metadata": {},
   "outputs": [],
   "source": [
    "counter = 0\n",
    "while counter <= len(df.columns):\n",
    "    if counter != 186:\n",
    "        df[counter] = df[counter] + df[counter + 1] + df[counter + 2] \n",
    "        counter += 3\n",
    "    else: break"
   ]
  },
  {
   "cell_type": "code",
   "execution_count": 41,
   "id": "c8b246df",
   "metadata": {},
   "outputs": [
    {
     "data": {
      "text/html": [
       "<div>\n",
       "<style scoped>\n",
       "    .dataframe tbody tr th:only-of-type {\n",
       "        vertical-align: middle;\n",
       "    }\n",
       "\n",
       "    .dataframe tbody tr th {\n",
       "        vertical-align: top;\n",
       "    }\n",
       "\n",
       "    .dataframe thead th {\n",
       "        text-align: right;\n",
       "    }\n",
       "</style>\n",
       "<table border=\"1\" class=\"dataframe\">\n",
       "  <thead>\n",
       "    <tr style=\"text-align: right;\">\n",
       "      <th></th>\n",
       "      <th>0</th>\n",
       "      <th>1</th>\n",
       "      <th>2</th>\n",
       "      <th>3</th>\n",
       "      <th>4</th>\n",
       "      <th>5</th>\n",
       "      <th>6</th>\n",
       "      <th>7</th>\n",
       "      <th>8</th>\n",
       "      <th>9</th>\n",
       "      <th>...</th>\n",
       "      <th>178</th>\n",
       "      <th>179</th>\n",
       "      <th>180</th>\n",
       "      <th>181</th>\n",
       "      <th>182</th>\n",
       "      <th>183</th>\n",
       "      <th>184</th>\n",
       "      <th>185</th>\n",
       "      <th>186</th>\n",
       "      <th>187</th>\n",
       "    </tr>\n",
       "  </thead>\n",
       "  <tbody>\n",
       "    <tr>\n",
       "      <th>10153</th>\n",
       "      <td>1.459302</td>\n",
       "      <td>0.540698</td>\n",
       "      <td>0.755814</td>\n",
       "      <td>0.901163</td>\n",
       "      <td>0.168605</td>\n",
       "      <td>0.546512</td>\n",
       "      <td>1.965116</td>\n",
       "      <td>0.697674</td>\n",
       "      <td>0.651163</td>\n",
       "      <td>2.116279</td>\n",
       "      <td>...</td>\n",
       "      <td>0.0</td>\n",
       "      <td>0.0</td>\n",
       "      <td>0.0</td>\n",
       "      <td>0.0</td>\n",
       "      <td>0.0</td>\n",
       "      <td>0.0</td>\n",
       "      <td>0.0</td>\n",
       "      <td>0.0</td>\n",
       "      <td>0.0</td>\n",
       "      <td>0.0</td>\n",
       "    </tr>\n",
       "    <tr>\n",
       "      <th>33886</th>\n",
       "      <td>2.273179</td>\n",
       "      <td>0.938742</td>\n",
       "      <td>0.344371</td>\n",
       "      <td>0.639073</td>\n",
       "      <td>0.273179</td>\n",
       "      <td>0.331126</td>\n",
       "      <td>1.014901</td>\n",
       "      <td>0.341060</td>\n",
       "      <td>0.347682</td>\n",
       "      <td>1.036424</td>\n",
       "      <td>...</td>\n",
       "      <td>0.0</td>\n",
       "      <td>0.0</td>\n",
       "      <td>0.0</td>\n",
       "      <td>0.0</td>\n",
       "      <td>0.0</td>\n",
       "      <td>0.0</td>\n",
       "      <td>0.0</td>\n",
       "      <td>0.0</td>\n",
       "      <td>0.0</td>\n",
       "      <td>0.0</td>\n",
       "    </tr>\n",
       "    <tr>\n",
       "      <th>32005</th>\n",
       "      <td>2.496487</td>\n",
       "      <td>0.932084</td>\n",
       "      <td>0.590164</td>\n",
       "      <td>0.313817</td>\n",
       "      <td>0.014052</td>\n",
       "      <td>0.168618</td>\n",
       "      <td>0.646370</td>\n",
       "      <td>0.210773</td>\n",
       "      <td>0.196721</td>\n",
       "      <td>0.627635</td>\n",
       "      <td>...</td>\n",
       "      <td>0.0</td>\n",
       "      <td>0.0</td>\n",
       "      <td>0.0</td>\n",
       "      <td>0.0</td>\n",
       "      <td>0.0</td>\n",
       "      <td>0.0</td>\n",
       "      <td>0.0</td>\n",
       "      <td>0.0</td>\n",
       "      <td>0.0</td>\n",
       "      <td>0.0</td>\n",
       "    </tr>\n",
       "    <tr>\n",
       "      <th>56159</th>\n",
       "      <td>2.228495</td>\n",
       "      <td>0.723118</td>\n",
       "      <td>0.526882</td>\n",
       "      <td>0.677419</td>\n",
       "      <td>0.220430</td>\n",
       "      <td>0.158602</td>\n",
       "      <td>0.263441</td>\n",
       "      <td>0.091398</td>\n",
       "      <td>0.080645</td>\n",
       "      <td>0.255376</td>\n",
       "      <td>...</td>\n",
       "      <td>0.0</td>\n",
       "      <td>0.0</td>\n",
       "      <td>0.0</td>\n",
       "      <td>0.0</td>\n",
       "      <td>0.0</td>\n",
       "      <td>0.0</td>\n",
       "      <td>0.0</td>\n",
       "      <td>0.0</td>\n",
       "      <td>0.0</td>\n",
       "      <td>0.0</td>\n",
       "    </tr>\n",
       "    <tr>\n",
       "      <th>61783</th>\n",
       "      <td>1.732984</td>\n",
       "      <td>0.709424</td>\n",
       "      <td>0.060209</td>\n",
       "      <td>0.112565</td>\n",
       "      <td>0.057592</td>\n",
       "      <td>0.041885</td>\n",
       "      <td>0.120419</td>\n",
       "      <td>0.034031</td>\n",
       "      <td>0.039267</td>\n",
       "      <td>0.138743</td>\n",
       "      <td>...</td>\n",
       "      <td>0.0</td>\n",
       "      <td>0.0</td>\n",
       "      <td>0.0</td>\n",
       "      <td>0.0</td>\n",
       "      <td>0.0</td>\n",
       "      <td>0.0</td>\n",
       "      <td>0.0</td>\n",
       "      <td>0.0</td>\n",
       "      <td>0.0</td>\n",
       "      <td>0.0</td>\n",
       "    </tr>\n",
       "  </tbody>\n",
       "</table>\n",
       "<p>5 rows × 188 columns</p>\n",
       "</div>"
      ],
      "text/plain": [
       "            0         1         2         3         4         5         6    \\\n",
       "10153  1.459302  0.540698  0.755814  0.901163  0.168605  0.546512  1.965116   \n",
       "33886  2.273179  0.938742  0.344371  0.639073  0.273179  0.331126  1.014901   \n",
       "32005  2.496487  0.932084  0.590164  0.313817  0.014052  0.168618  0.646370   \n",
       "56159  2.228495  0.723118  0.526882  0.677419  0.220430  0.158602  0.263441   \n",
       "61783  1.732984  0.709424  0.060209  0.112565  0.057592  0.041885  0.120419   \n",
       "\n",
       "            7         8         9    ...  178  179  180  181  182  183  184  \\\n",
       "10153  0.697674  0.651163  2.116279  ...  0.0  0.0  0.0  0.0  0.0  0.0  0.0   \n",
       "33886  0.341060  0.347682  1.036424  ...  0.0  0.0  0.0  0.0  0.0  0.0  0.0   \n",
       "32005  0.210773  0.196721  0.627635  ...  0.0  0.0  0.0  0.0  0.0  0.0  0.0   \n",
       "56159  0.091398  0.080645  0.255376  ...  0.0  0.0  0.0  0.0  0.0  0.0  0.0   \n",
       "61783  0.034031  0.039267  0.138743  ...  0.0  0.0  0.0  0.0  0.0  0.0  0.0   \n",
       "\n",
       "       185  186  187  \n",
       "10153  0.0  0.0  0.0  \n",
       "33886  0.0  0.0  0.0  \n",
       "32005  0.0  0.0  0.0  \n",
       "56159  0.0  0.0  0.0  \n",
       "61783  0.0  0.0  0.0  \n",
       "\n",
       "[5 rows x 188 columns]"
      ]
     },
     "execution_count": 41,
     "metadata": {},
     "output_type": "execute_result"
    }
   ],
   "source": [
    "df.head()"
   ]
  },
  {
   "cell_type": "code",
   "execution_count": 42,
   "id": "0471c939",
   "metadata": {},
   "outputs": [
    {
     "data": {
      "image/png": "[encoded data removed]",
      "text/plain": [
       "<Figure size 864x289.44 with 1 Axes>"
      ]
     },
     "metadata": {
      "needs_background": "light"
     },
     "output_type": "display_data"
    }
   ],
   "source": [
    "plt.figure(figsize = [12,4.02])\n",
    "plt.plot(df.iloc[0,:186], color = 'green')\n",
    "plt.title('data without noise');\n",
    "plt.ylabel('ECG in mili volts');\n",
    "plt.xlabel('time in minutes');"
   ]
  },
  {
   "cell_type": "code",
   "execution_count": 43,
   "id": "5f5d5017",
   "metadata": {},
   "outputs": [
    {
     "data": {
      "image/png": "[encoded data removed]",
      "text/plain": [
       "<Figure size 864x289.44 with 1 Axes>"
      ]
     },
     "metadata": {
      "needs_background": "light"
     },
     "output_type": "display_data"
    }
   ],
   "source": [
    "def add_guassian_noise2(signal):\n",
    "    noise = np.random.normal(0,500,186)\n",
    "    return(signal + noise)\n",
    "plt.figure(figsize = [12,4.02])\n",
    "plt.plot(add_guassian_noise2(df.iloc[0,:186]), color = 'red')\n",
    "plt.title('data with noise')\n",
    "plt.ylabel('ECG in mili volts')\n",
    "plt.xlabel('time in minutes')\n",
    "plt.show()"
   ]
  },
  {
   "cell_type": "code",
   "execution_count": 44,
   "id": "0391fc48",
   "metadata": {},
   "outputs": [
    {
     "data": {
      "text/html": [
       "<div>\n",
       "<style scoped>\n",
       "    .dataframe tbody tr th:only-of-type {\n",
       "        vertical-align: middle;\n",
       "    }\n",
       "\n",
       "    .dataframe tbody tr th {\n",
       "        vertical-align: top;\n",
       "    }\n",
       "\n",
       "    .dataframe thead th {\n",
       "        text-align: right;\n",
       "    }\n",
       "</style>\n",
       "<table border=\"1\" class=\"dataframe\">\n",
       "  <thead>\n",
       "    <tr style=\"text-align: right;\">\n",
       "      <th></th>\n",
       "      <th>0</th>\n",
       "      <th>1</th>\n",
       "      <th>2</th>\n",
       "      <th>3</th>\n",
       "      <th>4</th>\n",
       "      <th>5</th>\n",
       "      <th>6</th>\n",
       "      <th>7</th>\n",
       "      <th>8</th>\n",
       "      <th>9</th>\n",
       "      <th>...</th>\n",
       "      <th>178</th>\n",
       "      <th>179</th>\n",
       "      <th>180</th>\n",
       "      <th>181</th>\n",
       "      <th>182</th>\n",
       "      <th>183</th>\n",
       "      <th>184</th>\n",
       "      <th>185</th>\n",
       "      <th>186</th>\n",
       "      <th>187</th>\n",
       "    </tr>\n",
       "  </thead>\n",
       "  <tbody>\n",
       "    <tr>\n",
       "      <th>10153</th>\n",
       "      <td>1.459302</td>\n",
       "      <td>0.540698</td>\n",
       "      <td>0.755814</td>\n",
       "      <td>0.901163</td>\n",
       "      <td>0.168605</td>\n",
       "      <td>0.546512</td>\n",
       "      <td>1.965116</td>\n",
       "      <td>0.697674</td>\n",
       "      <td>0.651163</td>\n",
       "      <td>2.116279</td>\n",
       "      <td>...</td>\n",
       "      <td>0.0</td>\n",
       "      <td>0.0</td>\n",
       "      <td>0.0</td>\n",
       "      <td>0.0</td>\n",
       "      <td>0.0</td>\n",
       "      <td>0.0</td>\n",
       "      <td>0.0</td>\n",
       "      <td>0.0</td>\n",
       "      <td>0.0</td>\n",
       "      <td>0.0</td>\n",
       "    </tr>\n",
       "    <tr>\n",
       "      <th>33886</th>\n",
       "      <td>2.273179</td>\n",
       "      <td>0.938742</td>\n",
       "      <td>0.344371</td>\n",
       "      <td>0.639073</td>\n",
       "      <td>0.273179</td>\n",
       "      <td>0.331126</td>\n",
       "      <td>1.014901</td>\n",
       "      <td>0.341060</td>\n",
       "      <td>0.347682</td>\n",
       "      <td>1.036424</td>\n",
       "      <td>...</td>\n",
       "      <td>0.0</td>\n",
       "      <td>0.0</td>\n",
       "      <td>0.0</td>\n",
       "      <td>0.0</td>\n",
       "      <td>0.0</td>\n",
       "      <td>0.0</td>\n",
       "      <td>0.0</td>\n",
       "      <td>0.0</td>\n",
       "      <td>0.0</td>\n",
       "      <td>0.0</td>\n",
       "    </tr>\n",
       "    <tr>\n",
       "      <th>32005</th>\n",
       "      <td>2.496487</td>\n",
       "      <td>0.932084</td>\n",
       "      <td>0.590164</td>\n",
       "      <td>0.313817</td>\n",
       "      <td>0.014052</td>\n",
       "      <td>0.168618</td>\n",
       "      <td>0.646370</td>\n",
       "      <td>0.210773</td>\n",
       "      <td>0.196721</td>\n",
       "      <td>0.627635</td>\n",
       "      <td>...</td>\n",
       "      <td>0.0</td>\n",
       "      <td>0.0</td>\n",
       "      <td>0.0</td>\n",
       "      <td>0.0</td>\n",
       "      <td>0.0</td>\n",
       "      <td>0.0</td>\n",
       "      <td>0.0</td>\n",
       "      <td>0.0</td>\n",
       "      <td>0.0</td>\n",
       "      <td>0.0</td>\n",
       "    </tr>\n",
       "    <tr>\n",
       "      <th>56159</th>\n",
       "      <td>2.228495</td>\n",
       "      <td>0.723118</td>\n",
       "      <td>0.526882</td>\n",
       "      <td>0.677419</td>\n",
       "      <td>0.220430</td>\n",
       "      <td>0.158602</td>\n",
       "      <td>0.263441</td>\n",
       "      <td>0.091398</td>\n",
       "      <td>0.080645</td>\n",
       "      <td>0.255376</td>\n",
       "      <td>...</td>\n",
       "      <td>0.0</td>\n",
       "      <td>0.0</td>\n",
       "      <td>0.0</td>\n",
       "      <td>0.0</td>\n",
       "      <td>0.0</td>\n",
       "      <td>0.0</td>\n",
       "      <td>0.0</td>\n",
       "      <td>0.0</td>\n",
       "      <td>0.0</td>\n",
       "      <td>0.0</td>\n",
       "    </tr>\n",
       "    <tr>\n",
       "      <th>61783</th>\n",
       "      <td>1.732984</td>\n",
       "      <td>0.709424</td>\n",
       "      <td>0.060209</td>\n",
       "      <td>0.112565</td>\n",
       "      <td>0.057592</td>\n",
       "      <td>0.041885</td>\n",
       "      <td>0.120419</td>\n",
       "      <td>0.034031</td>\n",
       "      <td>0.039267</td>\n",
       "      <td>0.138743</td>\n",
       "      <td>...</td>\n",
       "      <td>0.0</td>\n",
       "      <td>0.0</td>\n",
       "      <td>0.0</td>\n",
       "      <td>0.0</td>\n",
       "      <td>0.0</td>\n",
       "      <td>0.0</td>\n",
       "      <td>0.0</td>\n",
       "      <td>0.0</td>\n",
       "      <td>0.0</td>\n",
       "      <td>0.0</td>\n",
       "    </tr>\n",
       "  </tbody>\n",
       "</table>\n",
       "<p>5 rows × 188 columns</p>\n",
       "</div>"
      ],
      "text/plain": [
       "            0         1         2         3         4         5         6    \\\n",
       "10153  1.459302  0.540698  0.755814  0.901163  0.168605  0.546512  1.965116   \n",
       "33886  2.273179  0.938742  0.344371  0.639073  0.273179  0.331126  1.014901   \n",
       "32005  2.496487  0.932084  0.590164  0.313817  0.014052  0.168618  0.646370   \n",
       "56159  2.228495  0.723118  0.526882  0.677419  0.220430  0.158602  0.263441   \n",
       "61783  1.732984  0.709424  0.060209  0.112565  0.057592  0.041885  0.120419   \n",
       "\n",
       "            7         8         9    ...  178  179  180  181  182  183  184  \\\n",
       "10153  0.697674  0.651163  2.116279  ...  0.0  0.0  0.0  0.0  0.0  0.0  0.0   \n",
       "33886  0.341060  0.347682  1.036424  ...  0.0  0.0  0.0  0.0  0.0  0.0  0.0   \n",
       "32005  0.210773  0.196721  0.627635  ...  0.0  0.0  0.0  0.0  0.0  0.0  0.0   \n",
       "56159  0.091398  0.080645  0.255376  ...  0.0  0.0  0.0  0.0  0.0  0.0  0.0   \n",
       "61783  0.034031  0.039267  0.138743  ...  0.0  0.0  0.0  0.0  0.0  0.0  0.0   \n",
       "\n",
       "       185  186  187  \n",
       "10153  0.0  0.0  0.0  \n",
       "33886  0.0  0.0  0.0  \n",
       "32005  0.0  0.0  0.0  \n",
       "56159  0.0  0.0  0.0  \n",
       "61783  0.0  0.0  0.0  \n",
       "\n",
       "[5 rows x 188 columns]"
      ]
     },
     "execution_count": 44,
     "metadata": {},
     "output_type": "execute_result"
    }
   ],
   "source": [
    "df.head()"
   ]
  },
  {
   "cell_type": "code",
   "execution_count": 45,
   "id": "97cb9b82",
   "metadata": {},
   "outputs": [],
   "source": [
    "x = train_data.iloc[0,:].values"
   ]
  },
  {
   "cell_type": "code",
   "execution_count": 46,
   "id": "537823d3",
   "metadata": {},
   "outputs": [],
   "source": [
    "from numpy.fft import fft, ifft"
   ]
  },
  {
   "cell_type": "code",
   "execution_count": 47,
   "id": "9caba45e",
   "metadata": {},
   "outputs": [],
   "source": [
    "x = train_data.iloc[0,:]\n",
    "X = fft(x)"
   ]
  },
  {
   "cell_type": "code",
   "execution_count": 48,
   "id": "c81a83bd",
   "metadata": {},
   "outputs": [
    {
     "name": "stderr",
     "output_type": "stream",
     "text": [
      "C:\\Users\\Sandeep\\AppData\\Local\\Programs\\Python\\Python310\\lib\\site-packages\\matplotlib\\cbook\\__init__.py:1298: ComplexWarning: Casting complex values to real discards the imaginary part\n",
      "  return np.asarray(x, float)\n"
     ]
    },
    {
     "data": {
      "text/plain": [
       "[<matplotlib.lines.Line2D at 0x249a091d270>]"
      ]
     },
     "execution_count": 48,
     "metadata": {},
     "output_type": "execute_result"
    },
    {
     "data": {
      "image/png": "[encoded data removed]",
      "text/plain": [
       "<Figure size 432x288 with 1 Axes>"
      ]
     },
     "metadata": {
      "needs_background": "light"
     },
     "output_type": "display_data"
    }
   ],
   "source": [
    "plt.plot(X)"
   ]
  },
  {
   "cell_type": "code",
   "execution_count": 49,
   "id": "5e0897f1",
   "metadata": {},
   "outputs": [
    {
     "data": {
      "image/png": "[encoded data removed]",
      "text/plain": [
       "<Figure size 864x432 with 1 Axes>"
      ]
     },
     "metadata": {
      "needs_background": "light"
     },
     "output_type": "display_data"
    }
   ],
   "source": [
    "X = fft(train_data.iloc[0,:186])\n",
    "N = len(X)\n",
    "n = np.arange(N)\n",
    "# get the sampling rate\n",
    "sr = 1 / (60*60)\n",
    "T = N/sr\n",
    "freq = n/T \n",
    "\n",
    "# Get the one-sided specturm\n",
    "n_oneside = N//2\n",
    "# get the one side frequency\n",
    "f_oneside = freq[:n_oneside]\n",
    "\n",
    "plt.figure(figsize = (12, 6))\n",
    "plt.plot(f_oneside, np.abs(X[:n_oneside]), 'b')\n",
    "plt.xlabel('Freq (Hz)')\n",
    "plt.ylabel('FFT Amplitude |X(freq)|')\n",
    "plt.show()"
   ]
  },
  {
   "cell_type": "code",
   "execution_count": 50,
   "id": "b23aff06",
   "metadata": {},
   "outputs": [],
   "source": [
    "N = len(X)\n",
    "n = np.arange(N)\n",
    "T = N/sr\n",
    "freq = n/T"
   ]
  },
  {
   "cell_type": "code",
   "execution_count": 51,
   "id": "b1c4e6a6",
   "metadata": {},
   "outputs": [
    {
     "name": "stderr",
     "output_type": "stream",
     "text": [
      "C:\\Users\\Sandeep\\AppData\\Local\\Temp\\ipykernel_15464\\1891753606.py:1: MatplotlibDeprecationWarning: Passing the linefmt parameter positionally is deprecated since Matplotlib 3.5; the parameter will become keyword-only two minor releases later.\n",
      "  plt.stem(freq, np.abs(X), 'b', \\\n"
     ]
    },
    {
     "data": {
      "image/png": "[encoded data removed]",
      "text/plain": [
       "<Figure size 432x288 with 1 Axes>"
      ]
     },
     "metadata": {
      "needs_background": "light"
     },
     "output_type": "display_data"
    }
   ],
   "source": [
    "plt.stem(freq, np.abs(X), 'b', \\\n",
    "         markerfmt=\" \", basefmt=\"-b\")\n",
    "plt.xlabel('Freq (Hz)')\n",
    "plt.ylabel('FFT Amplitude |X(freq)|')\n",
    "plt.xlim(0, 10);"
   ]
  },
  {
   "cell_type": "code",
   "execution_count": 52,
   "id": "d36a5695",
   "metadata": {},
   "outputs": [
    {
     "data": {
      "image/png": "[encoded data removed]",
      "text/plain": [
       "<Figure size 432x288 with 1 Axes>"
      ]
     },
     "metadata": {
      "needs_background": "light"
     },
     "output_type": "display_data"
    }
   ],
   "source": [
    "plt.plot(ifft(X), 'r')\n",
    "plt.xlabel('Time (s)')\n",
    "plt.ylabel('Amplitude')\n",
    "plt.tight_layout()\n",
    "plt.show()"
   ]
  },
  {
   "cell_type": "code",
   "execution_count": 53,
   "id": "2765b2be",
   "metadata": {},
   "outputs": [
    {
     "name": "stderr",
     "output_type": "stream",
     "text": [
      "C:\\Users\\Sandeep\\AppData\\Local\\Temp\\ipykernel_15464\\2023998756.py:1: RuntimeWarning: divide by zero encountered in divide\n",
      "  t_h = 1/f_oneside / (60 * 60)\n"
     ]
    },
    {
     "data": {
      "image/png": "[encoded data removed]",
      "text/plain": [
       "<Figure size 864x432 with 1 Axes>"
      ]
     },
     "metadata": {
      "needs_background": "light"
     },
     "output_type": "display_data"
    }
   ],
   "source": [
    "t_h = 1/f_oneside / (60 * 60)\n",
    "\n",
    "plt.figure(figsize=(12,6))\n",
    "plt.plot(t_h, np.abs(X[:n_oneside])/n_oneside)\n",
    "plt.xticks([12, 24, 84, 168])\n",
    "plt.xlim(0, 200)\n",
    "plt.xlabel('Period (hour)')\n",
    "plt.show()"
   ]
  },
  {
   "cell_type": "code",
   "execution_count": 54,
   "id": "90f03ce9",
   "metadata": {},
   "outputs": [],
   "source": [
    "from sklearn.model_selection import train_test_split"
   ]
  },
  {
   "cell_type": "code",
   "execution_count": 55,
   "id": "386a8d2a",
   "metadata": {},
   "outputs": [],
   "source": [
    "X_train = train_data.drop(187, axis=1)\n",
    "y_train = train_data[187]"
   ]
  },
  {
   "cell_type": "code",
   "execution_count": 56,
   "id": "8e706fd5",
   "metadata": {},
   "outputs": [],
   "source": [
    "X_test = test_data.drop(187, axis=1)\n",
    "y_test = test_data[187]"
   ]
  },
  {
   "cell_type": "code",
   "execution_count": 57,
   "id": "ad73b9f5",
   "metadata": {},
   "outputs": [],
   "source": [
    "X_train = X_train.values\n",
    "y_train = y_train.values"
   ]
  },
  {
   "cell_type": "code",
   "execution_count": 58,
   "id": "d9f4247a",
   "metadata": {},
   "outputs": [],
   "source": [
    "X_test = X_test.values\n",
    "y_test = y_test.values"
   ]
  },
  {
   "cell_type": "code",
   "execution_count": 59,
   "id": "0f669443",
   "metadata": {},
   "outputs": [
    {
     "name": "stdout",
     "output_type": "stream",
     "text": [
      "(100000, 187)\n",
      "(100000,)\n",
      "(10000, 187)\n",
      "(10000,)\n"
     ]
    }
   ],
   "source": [
    "print(X_train.shape)\n",
    "print(y_train.shape)\n",
    "print(X_test.shape)\n",
    "print(y_test.shape)"
   ]
  },
  {
   "cell_type": "code",
   "execution_count": 60,
   "id": "8821243c",
   "metadata": {},
   "outputs": [
    {
     "data": {
      "text/html": [
       "<div>\n",
       "<style scoped>\n",
       "    .dataframe tbody tr th:only-of-type {\n",
       "        vertical-align: middle;\n",
       "    }\n",
       "\n",
       "    .dataframe tbody tr th {\n",
       "        vertical-align: top;\n",
       "    }\n",
       "\n",
       "    .dataframe thead th {\n",
       "        text-align: right;\n",
       "    }\n",
       "</style>\n",
       "<table border=\"1\" class=\"dataframe\">\n",
       "  <thead>\n",
       "    <tr style=\"text-align: right;\">\n",
       "      <th></th>\n",
       "      <th>0</th>\n",
       "      <th>1</th>\n",
       "    </tr>\n",
       "  </thead>\n",
       "  <tbody>\n",
       "    <tr>\n",
       "      <th>0</th>\n",
       "      <td>0.0</td>\n",
       "      <td>20000.0</td>\n",
       "    </tr>\n",
       "    <tr>\n",
       "      <th>1</th>\n",
       "      <td>1.0</td>\n",
       "      <td>20000.0</td>\n",
       "    </tr>\n",
       "    <tr>\n",
       "      <th>2</th>\n",
       "      <td>2.0</td>\n",
       "      <td>20000.0</td>\n",
       "    </tr>\n",
       "    <tr>\n",
       "      <th>3</th>\n",
       "      <td>3.0</td>\n",
       "      <td>20000.0</td>\n",
       "    </tr>\n",
       "    <tr>\n",
       "      <th>4</th>\n",
       "      <td>4.0</td>\n",
       "      <td>20000.0</td>\n",
       "    </tr>\n",
       "  </tbody>\n",
       "</table>\n",
       "</div>"
      ],
      "text/plain": [
       "     0        1\n",
       "0  0.0  20000.0\n",
       "1  1.0  20000.0\n",
       "2  2.0  20000.0\n",
       "3  3.0  20000.0\n",
       "4  4.0  20000.0"
      ]
     },
     "execution_count": 60,
     "metadata": {},
     "output_type": "execute_result"
    }
   ],
   "source": [
    "unique, counts = np.unique(y_train, return_counts=True)\n",
    "\n",
    "pd.DataFrame(np.asarray((unique, counts)).T)"
   ]
  },
  {
   "cell_type": "code",
   "execution_count": 61,
   "id": "6bc3eedc",
   "metadata": {},
   "outputs": [],
   "source": [
    "val = X_train[0][1]"
   ]
  },
  {
   "cell_type": "code",
   "execution_count": 62,
   "id": "ca9d1607",
   "metadata": {},
   "outputs": [],
   "source": [
    "from sklearn.preprocessing import Normalizer\n",
    "from sklearn.preprocessing import StandardScaler"
   ]
  },
  {
   "cell_type": "code",
   "execution_count": 63,
   "id": "a941e995",
   "metadata": {},
   "outputs": [],
   "source": [
    "norm = Normalizer()\n",
    "std = StandardScaler()"
   ]
  },
  {
   "cell_type": "code",
   "execution_count": 64,
   "id": "7ae0d25b",
   "metadata": {},
   "outputs": [],
   "source": [
    "val1 = norm.fit_transform([[val]])\n",
    "val2 = std.fit_transform([[val]])"
   ]
  },
  {
   "cell_type": "code",
   "execution_count": 65,
   "id": "a459def6",
   "metadata": {},
   "outputs": [
    {
     "data": {
      "text/plain": [
       "numpy.ndarray"
      ]
     },
     "execution_count": 65,
     "metadata": {},
     "output_type": "execute_result"
    }
   ],
   "source": [
    "type(X_train)"
   ]
  },
  {
   "cell_type": "code",
   "execution_count": 66,
   "id": "4ca47e61",
   "metadata": {},
   "outputs": [],
   "source": [
    "X_train=np.asarray(X_train)\n",
    "y_train=np.asarray(y_train)\n",
    "X_test=np.asarray(X_test)\n",
    "y_test=np.asarray(y_test)"
   ]
  },
  {
   "cell_type": "code",
   "execution_count": 67,
   "id": "665cb769",
   "metadata": {},
   "outputs": [],
   "source": [
    "X_train=X_train.reshape(X_train.shape[1],187,1)\n",
    "y_train=y_train.reshape(y_train.shape[0],1)\n",
    "X_test=X_test.reshape(X_test.shape[0],187,1)\n",
    "y_test=y_test.reshape(y_test.shape[0],1)"
   ]
  },
  {
   "cell_type": "code",
   "execution_count": 68,
   "id": "1d65afb7",
   "metadata": {},
   "outputs": [],
   "source": [
    "def transformer_encoder(inputs, head_size, num_heads, ff_dim, dropout=0):\n",
    "    # Normalization and Attention\n",
    "    x = layers.LayerNormalization(epsilon=1e-6)(inputs)\n",
    "    x = layers.MultiHeadAttention(\n",
    "        key_dim=head_size, num_heads=num_heads, dropout=dropout\n",
    "    )(x, x)\n",
    "    x = layers.Dropout(dropout)(x)\n",
    "    res = x + inputs\n",
    "\n",
    "    # Feed Forward Part\n",
    "    x = layers.LayerNormalization(epsilon=1e-6)(res)\n",
    "    x = layers.Conv1D(filters=ff_dim, kernel_size=1, activation=\"relu\")(x)\n",
    "    x = layers.Dropout(dropout)(x)\n",
    "    x = layers.Conv1D(filters=inputs.shape[-1], kernel_size=1)(x)\n",
    "    return x + res"
   ]
  },
  {
   "cell_type": "code",
   "execution_count": 69,
   "id": "ef09d4be",
   "metadata": {},
   "outputs": [],
   "source": [
    "def build_model(\n",
    "    input_shape,\n",
    "    head_size,\n",
    "    num_heads,\n",
    "    ff_dim,\n",
    "    num_transformer_blocks,\n",
    "    mlp_units,\n",
    "    dropout=0,\n",
    "    mlp_dropout=0,\n",
    "):\n",
    "    inputs = keras.Input(shape=input_shape)\n",
    "    x = inputs\n",
    "    for _ in range(num_transformer_blocks):\n",
    "        x = transformer_encoder(x, head_size, num_heads, ff_dim, dropout)\n",
    "\n",
    "    x = layers.GlobalAveragePooling1D(data_format=\"channels_first\")(x)\n",
    "    for dim in mlp_units:\n",
    "        x = layers.Dense(dim, activation=\"relu\")(x)\n",
    "        x = layers.Dropout(mlp_dropout)(x)\n",
    "    outputs = layers.Dense(5, activation=\"softmax\")(x)\n",
    "    return keras.Model(inputs, outputs)"
   ]
  },
  {
   "cell_type": "code",
   "execution_count": 70,
   "id": "284bbc67",
   "metadata": {},
   "outputs": [
    {
     "data": {
      "text/plain": [
       "(187, 1)"
      ]
     },
     "execution_count": 70,
     "metadata": {},
     "output_type": "execute_result"
    }
   ],
   "source": [
    "input_shape=X_train.shape[1:]\n",
    "X_train.shape[1:]"
   ]
  },
  {
   "cell_type": "code",
   "execution_count": 72,
   "id": "b0167f44",
   "metadata": {},
   "outputs": [
    {
     "name": "stdout",
     "output_type": "stream",
     "text": [
      "Model: \"model_1\"\n",
      "__________________________________________________________________________________________________\n",
      " Layer (type)                   Output Shape         Param #     Connected to                     \n",
      "==================================================================================================\n",
      " input_2 (InputLayer)           [(None, 187, 1)]     0           []                               \n",
      "                                                                                                  \n",
      " layer_normalization_8 (LayerNo  (None, 187, 1)      2           ['input_2[0][0]']                \n",
      " rmalization)                                                                                     \n",
      "                                                                                                  \n",
      " multi_head_attention_4 (MultiH  (None, 187, 1)      3585        ['layer_normalization_8[0][0]',  \n",
      " eadAttention)                                                    'layer_normalization_8[0][0]']  \n",
      "                                                                                                  \n",
      " dropout_9 (Dropout)            (None, 187, 1)       0           ['multi_head_attention_4[0][0]'] \n",
      "                                                                                                  \n",
      " tf.__operators__.add_8 (TFOpLa  (None, 187, 1)      0           ['dropout_9[0][0]',              \n",
      " mbda)                                                            'input_2[0][0]']                \n",
      "                                                                                                  \n",
      " layer_normalization_9 (LayerNo  (None, 187, 1)      2           ['tf.__operators__.add_8[0][0]'] \n",
      " rmalization)                                                                                     \n",
      "                                                                                                  \n",
      " conv1d_8 (Conv1D)              (None, 187, 4)       8           ['layer_normalization_9[0][0]']  \n",
      "                                                                                                  \n",
      " dropout_10 (Dropout)           (None, 187, 4)       0           ['conv1d_8[0][0]']               \n",
      "                                                                                                  \n",
      " conv1d_9 (Conv1D)              (None, 187, 1)       5           ['dropout_10[0][0]']             \n",
      "                                                                                                  \n",
      " tf.__operators__.add_9 (TFOpLa  (None, 187, 1)      0           ['conv1d_9[0][0]',               \n",
      " mbda)                                                            'tf.__operators__.add_8[0][0]'] \n",
      "                                                                                                  \n",
      " layer_normalization_10 (LayerN  (None, 187, 1)      2           ['tf.__operators__.add_9[0][0]'] \n",
      " ormalization)                                                                                    \n",
      "                                                                                                  \n",
      " multi_head_attention_5 (MultiH  (None, 187, 1)      3585        ['layer_normalization_10[0][0]', \n",
      " eadAttention)                                                    'layer_normalization_10[0][0]'] \n",
      "                                                                                                  \n",
      " dropout_11 (Dropout)           (None, 187, 1)       0           ['multi_head_attention_5[0][0]'] \n",
      "                                                                                                  \n",
      " tf.__operators__.add_10 (TFOpL  (None, 187, 1)      0           ['dropout_11[0][0]',             \n",
      " ambda)                                                           'tf.__operators__.add_9[0][0]'] \n",
      "                                                                                                  \n",
      " layer_normalization_11 (LayerN  (None, 187, 1)      2           ['tf.__operators__.add_10[0][0]']\n",
      " ormalization)                                                                                    \n",
      "                                                                                                  \n",
      " conv1d_10 (Conv1D)             (None, 187, 4)       8           ['layer_normalization_11[0][0]'] \n",
      "                                                                                                  \n",
      " dropout_12 (Dropout)           (None, 187, 4)       0           ['conv1d_10[0][0]']              \n",
      "                                                                                                  \n",
      " conv1d_11 (Conv1D)             (None, 187, 1)       5           ['dropout_12[0][0]']             \n",
      "                                                                                                  \n",
      " tf.__operators__.add_11 (TFOpL  (None, 187, 1)      0           ['conv1d_11[0][0]',              \n",
      " ambda)                                                           'tf.__operators__.add_10[0][0]']\n",
      "                                                                                                  \n",
      " layer_normalization_12 (LayerN  (None, 187, 1)      2           ['tf.__operators__.add_11[0][0]']\n",
      " ormalization)                                                                                    \n",
      "                                                                                                  \n",
      " multi_head_attention_6 (MultiH  (None, 187, 1)      3585        ['layer_normalization_12[0][0]', \n",
      " eadAttention)                                                    'layer_normalization_12[0][0]'] \n",
      "                                                                                                  \n",
      " dropout_13 (Dropout)           (None, 187, 1)       0           ['multi_head_attention_6[0][0]'] \n",
      "                                                                                                  \n",
      " tf.__operators__.add_12 (TFOpL  (None, 187, 1)      0           ['dropout_13[0][0]',             \n",
      " ambda)                                                           'tf.__operators__.add_11[0][0]']\n",
      "                                                                                                  \n",
      " layer_normalization_13 (LayerN  (None, 187, 1)      2           ['tf.__operators__.add_12[0][0]']\n",
      " ormalization)                                                                                    \n",
      "                                                                                                  \n",
      " conv1d_12 (Conv1D)             (None, 187, 4)       8           ['layer_normalization_13[0][0]'] \n",
      "                                                                                                  \n",
      " dropout_14 (Dropout)           (None, 187, 4)       0           ['conv1d_12[0][0]']              \n",
      "                                                                                                  \n",
      " conv1d_13 (Conv1D)             (None, 187, 1)       5           ['dropout_14[0][0]']             \n",
      "                                                                                                  \n",
      " tf.__operators__.add_13 (TFOpL  (None, 187, 1)      0           ['conv1d_13[0][0]',              \n",
      " ambda)                                                           'tf.__operators__.add_12[0][0]']\n",
      "                                                                                                  \n",
      " layer_normalization_14 (LayerN  (None, 187, 1)      2           ['tf.__operators__.add_13[0][0]']\n",
      " ormalization)                                                                                    \n",
      "                                                                                                  \n",
      " multi_head_attention_7 (MultiH  (None, 187, 1)      3585        ['layer_normalization_14[0][0]', \n",
      " eadAttention)                                                    'layer_normalization_14[0][0]'] \n",
      "                                                                                                  \n",
      " dropout_15 (Dropout)           (None, 187, 1)       0           ['multi_head_attention_7[0][0]'] \n",
      "                                                                                                  \n",
      " tf.__operators__.add_14 (TFOpL  (None, 187, 1)      0           ['dropout_15[0][0]',             \n"
     ]
    },
    {
     "name": "stdout",
     "output_type": "stream",
     "text": [
      " ambda)                                                           'tf.__operators__.add_13[0][0]']\n",
      "                                                                                                  \n",
      " layer_normalization_15 (LayerN  (None, 187, 1)      2           ['tf.__operators__.add_14[0][0]']\n",
      " ormalization)                                                                                    \n",
      "                                                                                                  \n",
      " conv1d_14 (Conv1D)             (None, 187, 4)       8           ['layer_normalization_15[0][0]'] \n",
      "                                                                                                  \n",
      " dropout_16 (Dropout)           (None, 187, 4)       0           ['conv1d_14[0][0]']              \n",
      "                                                                                                  \n",
      " conv1d_15 (Conv1D)             (None, 187, 1)       5           ['dropout_16[0][0]']             \n",
      "                                                                                                  \n",
      " tf.__operators__.add_15 (TFOpL  (None, 187, 1)      0           ['conv1d_15[0][0]',              \n",
      " ambda)                                                           'tf.__operators__.add_14[0][0]']\n",
      "                                                                                                  \n",
      " global_average_pooling1d_1 (Gl  (None, 187)         0           ['tf.__operators__.add_15[0][0]']\n",
      " obalAveragePooling1D)                                                                            \n",
      "                                                                                                  \n",
      " dense_2 (Dense)                (None, 4)            752         ['global_average_pooling1d_1[0][0\n",
      "                                                                 ]']                              \n",
      "                                                                                                  \n",
      " dropout_17 (Dropout)           (None, 4)            0           ['dense_2[0][0]']                \n",
      "                                                                                                  \n",
      " dense_3 (Dense)                (None, 5)            25          ['dropout_17[0][0]']             \n",
      "                                                                                                  \n",
      "==================================================================================================\n",
      "Total params: 15,185\n",
      "Trainable params: 15,185\n",
      "Non-trainable params: 0\n",
      "__________________________________________________________________________________________________\n",
      "Epoch 1/5\n",
      " 539/5000 [==>...........................] - ETA: 1:25:39 - loss: 1.6215 - sparse_categorical_crossentropy: 1.6215"
     ]
    },
    {
     "ename": "KeyboardInterrupt",
     "evalue": "",
     "output_type": "error",
     "traceback": [
      "\u001b[1;31m---------------------------------------------------------------------------\u001b[0m",
      "\u001b[1;31mKeyboardInterrupt\u001b[0m                         Traceback (most recent call last)",
      "Input \u001b[1;32mIn [72]\u001b[0m, in \u001b[0;36m<cell line: 21>\u001b[1;34m()\u001b[0m\n\u001b[0;32m     17\u001b[0m model\u001b[38;5;241m.\u001b[39msummary()\n\u001b[0;32m     19\u001b[0m callbacks \u001b[38;5;241m=\u001b[39m [keras\u001b[38;5;241m.\u001b[39mcallbacks\u001b[38;5;241m.\u001b[39mEarlyStopping(patience\u001b[38;5;241m=\u001b[39m\u001b[38;5;241m10\u001b[39m, restore_best_weights\u001b[38;5;241m=\u001b[39m\u001b[38;5;28;01mTrue\u001b[39;00m)]\n\u001b[1;32m---> 21\u001b[0m history\u001b[38;5;241m=\u001b[39m\u001b[43mmodel\u001b[49m\u001b[38;5;241;43m.\u001b[39;49m\u001b[43mfit\u001b[49m\u001b[43m(\u001b[49m\u001b[43mX_train\u001b[49m\u001b[43m,\u001b[49m\u001b[43my_train\u001b[49m\u001b[43m,\u001b[49m\u001b[43mvalidation_split\u001b[49m\u001b[38;5;241;43m=\u001b[39;49m\u001b[38;5;241;43m0.2\u001b[39;49m\u001b[43m,\u001b[49m\u001b[43mepochs\u001b[49m\u001b[38;5;241;43m=\u001b[39;49m\u001b[38;5;241;43m5\u001b[39;49m\u001b[43m,\u001b[49m\u001b[43mbatch_size\u001b[49m\u001b[38;5;241;43m=\u001b[39;49m\u001b[38;5;241;43m16\u001b[39;49m\u001b[43m,\u001b[49m\u001b[43mcallbacks\u001b[49m\u001b[38;5;241;43m=\u001b[39;49m\u001b[43mcallbacks\u001b[49m\u001b[43m,\u001b[49m\u001b[43m)\u001b[49m\n\u001b[0;32m     23\u001b[0m score\u001b[38;5;241m=\u001b[39mmodel\u001b[38;5;241m.\u001b[39mevaluate(X_test,y_test,batch_size\u001b[38;5;241m=\u001b[39m\u001b[38;5;241m16\u001b[39m)\n",
      "File \u001b[1;32m~\\AppData\\Local\\Programs\\Python\\Python310\\lib\\site-packages\\keras\\utils\\traceback_utils.py:64\u001b[0m, in \u001b[0;36mfilter_traceback.<locals>.error_handler\u001b[1;34m(*args, **kwargs)\u001b[0m\n\u001b[0;32m     62\u001b[0m filtered_tb \u001b[38;5;241m=\u001b[39m \u001b[38;5;28;01mNone\u001b[39;00m\n\u001b[0;32m     63\u001b[0m \u001b[38;5;28;01mtry\u001b[39;00m:\n\u001b[1;32m---> 64\u001b[0m   \u001b[38;5;28;01mreturn\u001b[39;00m fn(\u001b[38;5;241m*\u001b[39margs, \u001b[38;5;241m*\u001b[39m\u001b[38;5;241m*\u001b[39mkwargs)\n\u001b[0;32m     65\u001b[0m \u001b[38;5;28;01mexcept\u001b[39;00m \u001b[38;5;167;01mException\u001b[39;00m \u001b[38;5;28;01mas\u001b[39;00m e:  \u001b[38;5;66;03m# pylint: disable=broad-except\u001b[39;00m\n\u001b[0;32m     66\u001b[0m   filtered_tb \u001b[38;5;241m=\u001b[39m _process_traceback_frames(e\u001b[38;5;241m.\u001b[39m__traceback__)\n",
      "File \u001b[1;32m~\\AppData\\Local\\Programs\\Python\\Python310\\lib\\site-packages\\keras\\engine\\training.py:1409\u001b[0m, in \u001b[0;36mModel.fit\u001b[1;34m(self, x, y, batch_size, epochs, verbose, callbacks, validation_split, validation_data, shuffle, class_weight, sample_weight, initial_epoch, steps_per_epoch, validation_steps, validation_batch_size, validation_freq, max_queue_size, workers, use_multiprocessing)\u001b[0m\n\u001b[0;32m   1402\u001b[0m \u001b[38;5;28;01mwith\u001b[39;00m tf\u001b[38;5;241m.\u001b[39mprofiler\u001b[38;5;241m.\u001b[39mexperimental\u001b[38;5;241m.\u001b[39mTrace(\n\u001b[0;32m   1403\u001b[0m     \u001b[38;5;124m'\u001b[39m\u001b[38;5;124mtrain\u001b[39m\u001b[38;5;124m'\u001b[39m,\n\u001b[0;32m   1404\u001b[0m     epoch_num\u001b[38;5;241m=\u001b[39mepoch,\n\u001b[0;32m   1405\u001b[0m     step_num\u001b[38;5;241m=\u001b[39mstep,\n\u001b[0;32m   1406\u001b[0m     batch_size\u001b[38;5;241m=\u001b[39mbatch_size,\n\u001b[0;32m   1407\u001b[0m     _r\u001b[38;5;241m=\u001b[39m\u001b[38;5;241m1\u001b[39m):\n\u001b[0;32m   1408\u001b[0m   callbacks\u001b[38;5;241m.\u001b[39mon_train_batch_begin(step)\n\u001b[1;32m-> 1409\u001b[0m   tmp_logs \u001b[38;5;241m=\u001b[39m \u001b[38;5;28;43mself\u001b[39;49m\u001b[38;5;241;43m.\u001b[39;49m\u001b[43mtrain_function\u001b[49m\u001b[43m(\u001b[49m\u001b[43miterator\u001b[49m\u001b[43m)\u001b[49m\n\u001b[0;32m   1410\u001b[0m   \u001b[38;5;28;01mif\u001b[39;00m data_handler\u001b[38;5;241m.\u001b[39mshould_sync:\n\u001b[0;32m   1411\u001b[0m     context\u001b[38;5;241m.\u001b[39masync_wait()\n",
      "File \u001b[1;32m~\\AppData\\Local\\Programs\\Python\\Python310\\lib\\site-packages\\tensorflow\\python\\util\\traceback_utils.py:150\u001b[0m, in \u001b[0;36mfilter_traceback.<locals>.error_handler\u001b[1;34m(*args, **kwargs)\u001b[0m\n\u001b[0;32m    148\u001b[0m filtered_tb \u001b[38;5;241m=\u001b[39m \u001b[38;5;28;01mNone\u001b[39;00m\n\u001b[0;32m    149\u001b[0m \u001b[38;5;28;01mtry\u001b[39;00m:\n\u001b[1;32m--> 150\u001b[0m   \u001b[38;5;28;01mreturn\u001b[39;00m fn(\u001b[38;5;241m*\u001b[39margs, \u001b[38;5;241m*\u001b[39m\u001b[38;5;241m*\u001b[39mkwargs)\n\u001b[0;32m    151\u001b[0m \u001b[38;5;28;01mexcept\u001b[39;00m \u001b[38;5;167;01mException\u001b[39;00m \u001b[38;5;28;01mas\u001b[39;00m e:\n\u001b[0;32m    152\u001b[0m   filtered_tb \u001b[38;5;241m=\u001b[39m _process_traceback_frames(e\u001b[38;5;241m.\u001b[39m__traceback__)\n",
      "File \u001b[1;32m~\\AppData\\Local\\Programs\\Python\\Python310\\lib\\site-packages\\tensorflow\\python\\eager\\def_function.py:915\u001b[0m, in \u001b[0;36mFunction.__call__\u001b[1;34m(self, *args, **kwds)\u001b[0m\n\u001b[0;32m    912\u001b[0m compiler \u001b[38;5;241m=\u001b[39m \u001b[38;5;124m\"\u001b[39m\u001b[38;5;124mxla\u001b[39m\u001b[38;5;124m\"\u001b[39m \u001b[38;5;28;01mif\u001b[39;00m \u001b[38;5;28mself\u001b[39m\u001b[38;5;241m.\u001b[39m_jit_compile \u001b[38;5;28;01melse\u001b[39;00m \u001b[38;5;124m\"\u001b[39m\u001b[38;5;124mnonXla\u001b[39m\u001b[38;5;124m\"\u001b[39m\n\u001b[0;32m    914\u001b[0m \u001b[38;5;28;01mwith\u001b[39;00m OptionalXlaContext(\u001b[38;5;28mself\u001b[39m\u001b[38;5;241m.\u001b[39m_jit_compile):\n\u001b[1;32m--> 915\u001b[0m   result \u001b[38;5;241m=\u001b[39m \u001b[38;5;28mself\u001b[39m\u001b[38;5;241m.\u001b[39m_call(\u001b[38;5;241m*\u001b[39margs, \u001b[38;5;241m*\u001b[39m\u001b[38;5;241m*\u001b[39mkwds)\n\u001b[0;32m    917\u001b[0m new_tracing_count \u001b[38;5;241m=\u001b[39m \u001b[38;5;28mself\u001b[39m\u001b[38;5;241m.\u001b[39mexperimental_get_tracing_count()\n\u001b[0;32m    918\u001b[0m without_tracing \u001b[38;5;241m=\u001b[39m (tracing_count \u001b[38;5;241m==\u001b[39m new_tracing_count)\n",
      "File \u001b[1;32m~\\AppData\\Local\\Programs\\Python\\Python310\\lib\\site-packages\\tensorflow\\python\\eager\\def_function.py:947\u001b[0m, in \u001b[0;36mFunction._call\u001b[1;34m(self, *args, **kwds)\u001b[0m\n\u001b[0;32m    944\u001b[0m   \u001b[38;5;28mself\u001b[39m\u001b[38;5;241m.\u001b[39m_lock\u001b[38;5;241m.\u001b[39mrelease()\n\u001b[0;32m    945\u001b[0m   \u001b[38;5;66;03m# In this case we have created variables on the first call, so we run the\u001b[39;00m\n\u001b[0;32m    946\u001b[0m   \u001b[38;5;66;03m# defunned version which is guaranteed to never create variables.\u001b[39;00m\n\u001b[1;32m--> 947\u001b[0m   \u001b[38;5;28;01mreturn\u001b[39;00m \u001b[38;5;28mself\u001b[39m\u001b[38;5;241m.\u001b[39m_stateless_fn(\u001b[38;5;241m*\u001b[39margs, \u001b[38;5;241m*\u001b[39m\u001b[38;5;241m*\u001b[39mkwds)  \u001b[38;5;66;03m# pylint: disable=not-callable\u001b[39;00m\n\u001b[0;32m    948\u001b[0m \u001b[38;5;28;01melif\u001b[39;00m \u001b[38;5;28mself\u001b[39m\u001b[38;5;241m.\u001b[39m_stateful_fn \u001b[38;5;129;01mis\u001b[39;00m \u001b[38;5;129;01mnot\u001b[39;00m \u001b[38;5;28;01mNone\u001b[39;00m:\n\u001b[0;32m    949\u001b[0m   \u001b[38;5;66;03m# Release the lock early so that multiple threads can perform the call\u001b[39;00m\n\u001b[0;32m    950\u001b[0m   \u001b[38;5;66;03m# in parallel.\u001b[39;00m\n\u001b[0;32m    951\u001b[0m   \u001b[38;5;28mself\u001b[39m\u001b[38;5;241m.\u001b[39m_lock\u001b[38;5;241m.\u001b[39mrelease()\n",
      "File \u001b[1;32m~\\AppData\\Local\\Programs\\Python\\Python310\\lib\\site-packages\\tensorflow\\python\\eager\\function.py:2453\u001b[0m, in \u001b[0;36mFunction.__call__\u001b[1;34m(self, *args, **kwargs)\u001b[0m\n\u001b[0;32m   2450\u001b[0m \u001b[38;5;28;01mwith\u001b[39;00m \u001b[38;5;28mself\u001b[39m\u001b[38;5;241m.\u001b[39m_lock:\n\u001b[0;32m   2451\u001b[0m   (graph_function,\n\u001b[0;32m   2452\u001b[0m    filtered_flat_args) \u001b[38;5;241m=\u001b[39m \u001b[38;5;28mself\u001b[39m\u001b[38;5;241m.\u001b[39m_maybe_define_function(args, kwargs)\n\u001b[1;32m-> 2453\u001b[0m \u001b[38;5;28;01mreturn\u001b[39;00m \u001b[43mgraph_function\u001b[49m\u001b[38;5;241;43m.\u001b[39;49m\u001b[43m_call_flat\u001b[49m\u001b[43m(\u001b[49m\n\u001b[0;32m   2454\u001b[0m \u001b[43m    \u001b[49m\u001b[43mfiltered_flat_args\u001b[49m\u001b[43m,\u001b[49m\u001b[43m \u001b[49m\u001b[43mcaptured_inputs\u001b[49m\u001b[38;5;241;43m=\u001b[39;49m\u001b[43mgraph_function\u001b[49m\u001b[38;5;241;43m.\u001b[39;49m\u001b[43mcaptured_inputs\u001b[49m\u001b[43m)\u001b[49m\n",
      "File \u001b[1;32m~\\AppData\\Local\\Programs\\Python\\Python310\\lib\\site-packages\\tensorflow\\python\\eager\\function.py:1860\u001b[0m, in \u001b[0;36mConcreteFunction._call_flat\u001b[1;34m(self, args, captured_inputs, cancellation_manager)\u001b[0m\n\u001b[0;32m   1856\u001b[0m possible_gradient_type \u001b[38;5;241m=\u001b[39m gradients_util\u001b[38;5;241m.\u001b[39mPossibleTapeGradientTypes(args)\n\u001b[0;32m   1857\u001b[0m \u001b[38;5;28;01mif\u001b[39;00m (possible_gradient_type \u001b[38;5;241m==\u001b[39m gradients_util\u001b[38;5;241m.\u001b[39mPOSSIBLE_GRADIENT_TYPES_NONE\n\u001b[0;32m   1858\u001b[0m     \u001b[38;5;129;01mand\u001b[39;00m executing_eagerly):\n\u001b[0;32m   1859\u001b[0m   \u001b[38;5;66;03m# No tape is watching; skip to running the function.\u001b[39;00m\n\u001b[1;32m-> 1860\u001b[0m   \u001b[38;5;28;01mreturn\u001b[39;00m \u001b[38;5;28mself\u001b[39m\u001b[38;5;241m.\u001b[39m_build_call_outputs(\u001b[38;5;28;43mself\u001b[39;49m\u001b[38;5;241;43m.\u001b[39;49m\u001b[43m_inference_function\u001b[49m\u001b[38;5;241;43m.\u001b[39;49m\u001b[43mcall\u001b[49m\u001b[43m(\u001b[49m\n\u001b[0;32m   1861\u001b[0m \u001b[43m      \u001b[49m\u001b[43mctx\u001b[49m\u001b[43m,\u001b[49m\u001b[43m \u001b[49m\u001b[43margs\u001b[49m\u001b[43m,\u001b[49m\u001b[43m \u001b[49m\u001b[43mcancellation_manager\u001b[49m\u001b[38;5;241;43m=\u001b[39;49m\u001b[43mcancellation_manager\u001b[49m\u001b[43m)\u001b[49m)\n\u001b[0;32m   1862\u001b[0m forward_backward \u001b[38;5;241m=\u001b[39m \u001b[38;5;28mself\u001b[39m\u001b[38;5;241m.\u001b[39m_select_forward_and_backward_functions(\n\u001b[0;32m   1863\u001b[0m     args,\n\u001b[0;32m   1864\u001b[0m     possible_gradient_type,\n\u001b[0;32m   1865\u001b[0m     executing_eagerly)\n\u001b[0;32m   1866\u001b[0m forward_function, args_with_tangents \u001b[38;5;241m=\u001b[39m forward_backward\u001b[38;5;241m.\u001b[39mforward()\n",
      "File \u001b[1;32m~\\AppData\\Local\\Programs\\Python\\Python310\\lib\\site-packages\\tensorflow\\python\\eager\\function.py:497\u001b[0m, in \u001b[0;36m_EagerDefinedFunction.call\u001b[1;34m(self, ctx, args, cancellation_manager)\u001b[0m\n\u001b[0;32m    495\u001b[0m \u001b[38;5;28;01mwith\u001b[39;00m _InterpolateFunctionError(\u001b[38;5;28mself\u001b[39m):\n\u001b[0;32m    496\u001b[0m   \u001b[38;5;28;01mif\u001b[39;00m cancellation_manager \u001b[38;5;129;01mis\u001b[39;00m \u001b[38;5;28;01mNone\u001b[39;00m:\n\u001b[1;32m--> 497\u001b[0m     outputs \u001b[38;5;241m=\u001b[39m \u001b[43mexecute\u001b[49m\u001b[38;5;241;43m.\u001b[39;49m\u001b[43mexecute\u001b[49m\u001b[43m(\u001b[49m\n\u001b[0;32m    498\u001b[0m \u001b[43m        \u001b[49m\u001b[38;5;28;43mstr\u001b[39;49m\u001b[43m(\u001b[49m\u001b[38;5;28;43mself\u001b[39;49m\u001b[38;5;241;43m.\u001b[39;49m\u001b[43msignature\u001b[49m\u001b[38;5;241;43m.\u001b[39;49m\u001b[43mname\u001b[49m\u001b[43m)\u001b[49m\u001b[43m,\u001b[49m\n\u001b[0;32m    499\u001b[0m \u001b[43m        \u001b[49m\u001b[43mnum_outputs\u001b[49m\u001b[38;5;241;43m=\u001b[39;49m\u001b[38;5;28;43mself\u001b[39;49m\u001b[38;5;241;43m.\u001b[39;49m\u001b[43m_num_outputs\u001b[49m\u001b[43m,\u001b[49m\n\u001b[0;32m    500\u001b[0m \u001b[43m        \u001b[49m\u001b[43minputs\u001b[49m\u001b[38;5;241;43m=\u001b[39;49m\u001b[43margs\u001b[49m\u001b[43m,\u001b[49m\n\u001b[0;32m    501\u001b[0m \u001b[43m        \u001b[49m\u001b[43mattrs\u001b[49m\u001b[38;5;241;43m=\u001b[39;49m\u001b[43mattrs\u001b[49m\u001b[43m,\u001b[49m\n\u001b[0;32m    502\u001b[0m \u001b[43m        \u001b[49m\u001b[43mctx\u001b[49m\u001b[38;5;241;43m=\u001b[39;49m\u001b[43mctx\u001b[49m\u001b[43m)\u001b[49m\n\u001b[0;32m    503\u001b[0m   \u001b[38;5;28;01melse\u001b[39;00m:\n\u001b[0;32m    504\u001b[0m     outputs \u001b[38;5;241m=\u001b[39m execute\u001b[38;5;241m.\u001b[39mexecute_with_cancellation(\n\u001b[0;32m    505\u001b[0m         \u001b[38;5;28mstr\u001b[39m(\u001b[38;5;28mself\u001b[39m\u001b[38;5;241m.\u001b[39msignature\u001b[38;5;241m.\u001b[39mname),\n\u001b[0;32m    506\u001b[0m         num_outputs\u001b[38;5;241m=\u001b[39m\u001b[38;5;28mself\u001b[39m\u001b[38;5;241m.\u001b[39m_num_outputs,\n\u001b[1;32m   (...)\u001b[0m\n\u001b[0;32m    509\u001b[0m         ctx\u001b[38;5;241m=\u001b[39mctx,\n\u001b[0;32m    510\u001b[0m         cancellation_manager\u001b[38;5;241m=\u001b[39mcancellation_manager)\n",
      "File \u001b[1;32m~\\AppData\\Local\\Programs\\Python\\Python310\\lib\\site-packages\\tensorflow\\python\\eager\\execute.py:54\u001b[0m, in \u001b[0;36mquick_execute\u001b[1;34m(op_name, num_outputs, inputs, attrs, ctx, name)\u001b[0m\n\u001b[0;32m     52\u001b[0m \u001b[38;5;28;01mtry\u001b[39;00m:\n\u001b[0;32m     53\u001b[0m   ctx\u001b[38;5;241m.\u001b[39mensure_initialized()\n\u001b[1;32m---> 54\u001b[0m   tensors \u001b[38;5;241m=\u001b[39m \u001b[43mpywrap_tfe\u001b[49m\u001b[38;5;241;43m.\u001b[39;49m\u001b[43mTFE_Py_Execute\u001b[49m\u001b[43m(\u001b[49m\u001b[43mctx\u001b[49m\u001b[38;5;241;43m.\u001b[39;49m\u001b[43m_handle\u001b[49m\u001b[43m,\u001b[49m\u001b[43m \u001b[49m\u001b[43mdevice_name\u001b[49m\u001b[43m,\u001b[49m\u001b[43m \u001b[49m\u001b[43mop_name\u001b[49m\u001b[43m,\u001b[49m\n\u001b[0;32m     55\u001b[0m \u001b[43m                                      \u001b[49m\u001b[43minputs\u001b[49m\u001b[43m,\u001b[49m\u001b[43m \u001b[49m\u001b[43mattrs\u001b[49m\u001b[43m,\u001b[49m\u001b[43m \u001b[49m\u001b[43mnum_outputs\u001b[49m\u001b[43m)\u001b[49m\n\u001b[0;32m     56\u001b[0m \u001b[38;5;28;01mexcept\u001b[39;00m core\u001b[38;5;241m.\u001b[39m_NotOkStatusException \u001b[38;5;28;01mas\u001b[39;00m e:\n\u001b[0;32m     57\u001b[0m   \u001b[38;5;28;01mif\u001b[39;00m name \u001b[38;5;129;01mis\u001b[39;00m \u001b[38;5;129;01mnot\u001b[39;00m \u001b[38;5;28;01mNone\u001b[39;00m:\n",
      "\u001b[1;31mKeyboardInterrupt\u001b[0m: "
     ]
    }
   ],
   "source": [
    "model = build_model(\n",
    "    input_shape,\n",
    "    head_size=128,\n",
    "    num_heads=4,\n",
    "    ff_dim=4,\n",
    "    num_transformer_blocks=4,\n",
    "    mlp_units=[4],\n",
    "    mlp_dropout=0.35,\n",
    "    dropout=0.25,\n",
    ")\n",
    "\n",
    "model.compile(\n",
    "    loss=\"sparse_categorical_crossentropy\",\n",
    "    optimizer=keras.optimizers.Adam(learning_rate=1e-4),\n",
    "    metrics=[\"sparse_categorical_crossentropy\"],\n",
    ")\n",
    "model.summary()\n",
    "\n",
    "callbacks = [keras.callbacks.EarlyStopping(patience=10, restore_best_weights=True)]\n",
    "\n",
    "history=model.fit(X_train,y_train,validation_split=0.2,epochs=5,batch_size=16,callbacks=callbacks,)\n",
    "\n",
    "score=model.evaluate(X_test,y_test,batch_size=16)"
   ]
  },
  {
   "cell_type": "code",
   "execution_count": null,
   "id": "5196c268",
   "metadata": {},
   "outputs": [],
   "source": [
    "print(history.history.keys())"
   ]
  },
  {
   "cell_type": "code",
   "execution_count": null,
   "id": "42acfd2a",
   "metadata": {},
   "outputs": [],
   "source": [
    "plt.plot(history.history['sparse_categorical_accuracy'])\n",
    "plt.plot(history.history['val_sparse_categorical_accuracy'])\n",
    "plt.title('model accuracy')\n",
    "plt.xlabel('epochs')\n",
    "plt.ylabel('accuracy')\n",
    "plt.legend(['train','test'],loc='best')\n",
    "plt.savefig('Model_Accuracy.png')\n",
    "plt.show()"
   ]
  },
  {
   "cell_type": "code",
   "execution_count": null,
   "id": "4b2a0a60",
   "metadata": {},
   "outputs": [],
   "source": [
    "plt.plot(history.history['loss'])\n",
    "plt.plot(history.history['val_loss'])\n",
    "plt.title('model loss')\n",
    "plt.xlabel('epochs')\n",
    "plt.ylabel('loss')\n",
    "plt.legend(['train','test'],loc='best')\n",
    "plt.savefig('Model_loss.png')\n",
    "plt.show()"
   ]
  },
  {
   "cell_type": "code",
   "execution_count": null,
   "id": "c46ffd7c",
   "metadata": {},
   "outputs": [],
   "source": [
    "classes=train_df.groupby(187,group_keys=False).apply(lambda train_df : train_df.sample(1))\n",
    "\n",
    "# plotting classes ECG\n",
    "plt.figure(figsize=(16,8))\n",
    "# normal\n",
    "plt.subplot(2, 3, 1)  \n",
    "plt.plot(classes.iloc[0,:186])\n",
    "plt.title('normal beat')\n",
    "# unknown\n",
    "plt.subplot(2, 3, 2)  \n",
    "plt.plot(classes.iloc[1,:186])\n",
    "plt.title('unknown Beat')\n",
    "# veb\n",
    "plt.subplot(2, 3, 3)  \n",
    "plt.plot(classes.iloc[2,:186])\n",
    "plt.title('Ventricular ectopic beat')\n",
    "\n",
    "#seb\n",
    "plt.subplot(2, 3, 4)  \n",
    "plt.plot(classes.iloc[3,:186])\n",
    "plt.title('Supraventricular ectopic beat')\n",
    "# fusion\n",
    "plt.subplot(2, 3, 5)  \n",
    "plt.plot(classes.iloc[4,:186])\n",
    "plt.title('Fusion Beat')\n",
    "# show plot\n",
    "plt.savefig('Heart Beats.png')\n",
    "plt.show()\n"
   ]
  },
  {
   "cell_type": "code",
   "execution_count": null,
   "id": "7c637876",
   "metadata": {},
   "outputs": [],
   "source": []
  }
 ],
 "metadata": {
  "kernelspec": {
   "display_name": "Python 3 (ipykernel)",
   "language": "python",
   "name": "python3"
  },
  "language_info": {
   "codemirror_mode": {
    "name": "ipython",
    "version": 3
   },
   "file_extension": ".py",
   "mimetype": "text/x-python",
   "name": "python",
   "nbconvert_exporter": "python",
   "pygments_lexer": "ipython3",
   "version": "3.10.7"
  }
 },
 "nbformat": 4,
 "nbformat_minor": 5
}
